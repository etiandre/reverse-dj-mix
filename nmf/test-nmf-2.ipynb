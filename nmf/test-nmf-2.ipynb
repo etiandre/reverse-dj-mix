{
 "cells": [
  {
   "cell_type": "code",
   "execution_count": null,
   "metadata": {},
   "outputs": [],
   "source": [
    "from pathlib import Path\n",
    "import numpy as np\n",
    "import soundfile\n",
    "import matplotlib.pyplot as plt\n",
    "import librosa\n",
    "from pprint import pprint\n",
    "import scipy.ndimage\n",
    "import scipy.signal\n",
    "import logging\n",
    "import itertools\n",
    "import scipy.sparse\n",
    "import datetime\n",
    "import os\n",
    "import pickle\n",
    "import time\n",
    "\n",
    "from unmixdb import UnmixDB\n",
    "from abcdj import ABCDJ\n",
    "import activation_learner, carve, plot, param_estimator, modular_nmf\n",
    "\n",
    "logger = logging.getLogger()\n",
    "logger.setLevel(logging.INFO)"
   ]
  },
  {
   "cell_type": "code",
   "execution_count": null,
   "metadata": {},
   "outputs": [],
   "source": [
    "FS = 22050\n",
    "T = np.linspace(0, 10, 10 * FS)\n",
    "inputs = [\n",
    "    0.0001 * np.sin(2 * np.pi * 200 * T**2),\n",
    "    np.sin(2 * np.pi * 200 * T**2) * np.linspace(0, 1, len(T)),\n",
    "]\n",
    "win_size = 1\n",
    "hop_size = 0.25\n",
    "BETA = 0\n",
    "NMELS = 256\n",
    "# stop conditions\n",
    "DLOSS_MIN = 1e-8\n",
    "LOSS_MIN = -np.inf\n",
    "ITER_MAX = 500\n",
    "# logging\n",
    "PLOT_NMF_EVERY = 50\n",
    "DIVERGENCE = modular_nmf.BetaDivergence(0)\n",
    "PENALTIES = [\n",
    "    # (modular_nmf.L1(), 9643.097400544748),\n",
    "    # (modular_nmf.SmoothGain(), 1572.5437219589044),\n",
    "    # (modular_nmf.VirtanenTemporalContinuity(), 1)\n",
    "]"
   ]
  },
  {
   "cell_type": "code",
   "execution_count": null,
   "metadata": {},
   "outputs": [],
   "source": [
    "learner = activation_learner.ActivationLearner(\n",
    "    inputs,\n",
    "    fs=FS,\n",
    "    n_mels=NMELS,\n",
    "    win_size=win_size,\n",
    "    hop_size=hop_size,\n",
    "    divergence=DIVERGENCE,\n",
    "    penalties=PENALTIES,\n",
    ")\n",
    "last_loss = np.inf\n",
    "for i in itertools.count():\n",
    "    # TODO: get all components of loss\n",
    "    loss,_ = learner.iterate()\n",
    "\n",
    "    if i > ITER_MAX:\n",
    "        print(f\"Stopped at NMF iteration={i} loss={loss}\")\n",
    "        break\n",
    "    if i % PLOT_NMF_EVERY == 0:\n",
    "        print(f\"NMF iteration={i} loss={loss:.2e}\")\n",
    "        plot.plot_nmf(learner)\n",
    "        plt.show()\n",
    "plot.plot_nmf(learner)\n",
    "plt.show()\n",
    "\n",
    "plt.close(\"all\")"
   ]
  },
  {
   "cell_type": "code",
   "execution_count": null,
   "metadata": {},
   "outputs": [],
   "source": [
    "tau = np.arange(0, learner.V.shape[1]) * hop_size\n",
    "\n",
    "results = {}\n",
    "# estimate gain\n",
    "results[\"est_gain\"] = {}\n",
    "for estimator in param_estimator.GainEstimator:\n",
    "    print(f\"Estimating gain with method {estimator}\")\n",
    "    est_gain = estimator.value(learner)\n",
    "\n",
    "    fig = plt.figure()\n",
    "    plot.plot_gain(tau, est_gain)\n",
    "    plt.show()\n",
    "    results[\"est_gain\"][str(estimator)] = est_gain\n",
    "\n",
    "# estimate warp\n",
    "results[\"est_warp\"] = {}\n",
    "for estimator in param_estimator.WarpEstimator:\n",
    "    print(f\"Estimating warp with method {estimator}\")\n",
    "    est_warp = estimator.value(learner)\n",
    "\n",
    "    fig = plt.figure()\n",
    "    plot.plot_warp(tau, est_warp)\n",
    "    plt.show()\n",
    "\n",
    "    results[\"est_warp\"][str(estimator)] = est_warp"
   ]
  },
  {
   "cell_type": "code",
   "execution_count": null,
   "metadata": {},
   "outputs": [],
   "source": []
  }
 ],
 "metadata": {
  "kernelspec": {
   "display_name": "Python 3 (ipykernel)",
   "language": "python",
   "name": "python3"
  },
  "language_info": {
   "codemirror_mode": {
    "name": "ipython",
    "version": 3
   },
   "file_extension": ".py",
   "mimetype": "text/x-python",
   "name": "python",
   "nbconvert_exporter": "python",
   "pygments_lexer": "ipython3",
   "version": "3.12.1"
  }
 },
 "nbformat": 4,
 "nbformat_minor": 4
}
