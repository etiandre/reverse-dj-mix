{
 "cells": [
  {
   "cell_type": "code",
   "execution_count": 8,
   "metadata": {},
   "outputs": [],
   "source": [
    "import torchnmf\n",
    "import torch\n",
    "import librosa\n",
    "import numpy as np\n",
    "import matplotlib.pyplot as plt\n",
    "from mixes.synthetic import SyntheticDB"
   ]
  },
  {
   "cell_type": "code",
   "execution_count": 37,
   "metadata": {},
   "outputs": [],
   "source": [
    "def _transform_melspec(input, fs, n_mels, stft_win_func, win_len, hop_len):\n",
    "    spec = librosa.stft(\n",
    "        input,\n",
    "        n_fft=win_len,\n",
    "        hop_length=hop_len,\n",
    "        win_length=win_len,\n",
    "        center=True,\n",
    "        window=stft_win_func,\n",
    "    )\n",
    "    mel_f = librosa.filters.mel(sr=fs, n_fft=win_len, n_mels=n_mels)\n",
    "    melspec = mel_f.dot(abs(spec) ** 2)\n",
    "\n",
    "    return melspec\n",
    "\n",
    "\n",
    "FS = 22050\n",
    "HSIZE = 0.01\n",
    "WSIZE = 8 * HSIZE\n",
    "NMELS = 256\n",
    "\n",
    "db = SyntheticDB()\n",
    "mix = db.get_mix(\"linear-mix\")\n",
    "inputs = mix.as_activation_learner_input()\n",
    "specs = [\n",
    "    _transform_melspec(i, FS, NMELS, np.hanning, int(WSIZE * FS), int(HSIZE * FS))\n",
    "    for i in inputs\n",
    "]\n",
    "W = torch.Tensor(np.concatenate(specs[:-1], axis=1))\n",
    "# W /= W.sum(axis=1, keepdims=True)\n",
    "V = torch.Tensor(specs[-1])\n",
    "# X /= X.sum(axis=1, keepdims=True)\n",
    "H = abs(torch.randn((W.shape[1], V.shape[1])))\n",
    "Z = torch.ones(H.shape[0])"
   ]
  },
  {
   "cell_type": "code",
   "execution_count": 39,
   "metadata": {},
   "outputs": [
    {
     "name": "stdout",
     "output_type": "stream",
     "text": [
      "torch.Size([256, 1175]) torch.Size([256, 1551]) torch.Size([1551, 1175]) torch.Size([1551]) torch.Size([256, 1175])\n"
     ]
    }
   ],
   "source": [
    "print(V.shape, W.shape, H.shape, Z.shape, (W @ H).shape)"
   ]
  },
  {
   "cell_type": "code",
   "execution_count": 31,
   "metadata": {},
   "outputs": [
    {
     "ename": "AssertionError",
     "evalue": "Latent size of H does not match with others!",
     "output_type": "error",
     "traceback": [
      "\u001b[0;31m---------------------------------------------------------------------------\u001b[0m",
      "\u001b[0;31mAssertionError\u001b[0m                            Traceback (most recent call last)",
      "Cell \u001b[0;32mIn[31], line 1\u001b[0m\n\u001b[0;32m----> 1\u001b[0m net \u001b[38;5;241m=\u001b[39m \u001b[43mtorchnmf\u001b[49m\u001b[38;5;241;43m.\u001b[39;49m\u001b[43mplca\u001b[49m\u001b[38;5;241;43m.\u001b[39;49m\u001b[43mPLCA\u001b[49m\u001b[43m(\u001b[49m\u001b[43mW\u001b[49m\u001b[38;5;241;43m=\u001b[39;49m\u001b[43mW\u001b[49m\u001b[43m,\u001b[49m\u001b[43m \u001b[49m\u001b[43mH\u001b[49m\u001b[38;5;241;43m=\u001b[39;49m\u001b[43mH\u001b[49m\u001b[43m,\u001b[49m\u001b[43m \u001b[49m\u001b[43mZ\u001b[49m\u001b[38;5;241;43m=\u001b[39;49m\u001b[43mZ\u001b[49m\u001b[43m,\u001b[49m\u001b[43m \u001b[49m\u001b[43mtrainable_W\u001b[49m\u001b[43m \u001b[49m\u001b[38;5;241;43m=\u001b[39;49m\u001b[43m \u001b[49m\u001b[38;5;28;43;01mFalse\u001b[39;49;00m\u001b[43m)\u001b[49m\n\u001b[1;32m      2\u001b[0m net\u001b[38;5;241m.\u001b[39mfit(V)\n",
      "File \u001b[0;32m/data5/anasynth_nonbp/andre/venv/lib/python3.9/site-packages/torchnmf/plca.py:369\u001b[0m, in \u001b[0;36mPLCA.__init__\u001b[0;34m(self, Vshape, rank, **kwargs)\u001b[0m\n\u001b[1;32m    366\u001b[0m     kwargs[\u001b[38;5;124m'\u001b[39m\u001b[38;5;124mW\u001b[39m\u001b[38;5;124m'\u001b[39m] \u001b[38;5;241m=\u001b[39m (K, rank)\n\u001b[1;32m    367\u001b[0m     kwargs[\u001b[38;5;124m'\u001b[39m\u001b[38;5;124mH\u001b[39m\u001b[38;5;124m'\u001b[39m] \u001b[38;5;241m=\u001b[39m (M, rank)\n\u001b[0;32m--> 369\u001b[0m \u001b[38;5;28;43msuper\u001b[39;49m\u001b[43m(\u001b[49m\u001b[43m)\u001b[49m\u001b[38;5;241;43m.\u001b[39;49m\u001b[38;5;21;43m__init__\u001b[39;49m\u001b[43m(\u001b[49m\u001b[43mrank\u001b[49m\u001b[43m,\u001b[49m\u001b[43m \u001b[49m\u001b[38;5;241;43m*\u001b[39;49m\u001b[38;5;241;43m*\u001b[39;49m\u001b[43mkwargs\u001b[49m\u001b[43m)\u001b[49m\n",
      "File \u001b[0;32m/data5/anasynth_nonbp/andre/venv/lib/python3.9/site-packages/torchnmf/plca.py:135\u001b[0m, in \u001b[0;36mBaseComponent.__init__\u001b[0;34m(self, rank, W, H, Z, trainable_W, trainable_H, trainable_Z)\u001b[0m\n\u001b[1;32m    133\u001b[0m     \u001b[38;5;28;01massert\u001b[39;00m \u001b[38;5;28mself\u001b[39m\u001b[38;5;241m.\u001b[39mZ\u001b[38;5;241m.\u001b[39mshape[\u001b[38;5;241m0\u001b[39m] \u001b[38;5;241m==\u001b[39m infer_rank, \u001b[38;5;124m\"\u001b[39m\u001b[38;5;124mLatent size of Z does not match with others!\u001b[39m\u001b[38;5;124m\"\u001b[39m\n\u001b[1;32m    134\u001b[0m \u001b[38;5;28;01mif\u001b[39;00m \u001b[38;5;28mgetattr\u001b[39m(\u001b[38;5;28mself\u001b[39m, \u001b[38;5;124m\"\u001b[39m\u001b[38;5;124mH\u001b[39m\u001b[38;5;124m\"\u001b[39m) \u001b[38;5;129;01mis\u001b[39;00m \u001b[38;5;129;01mnot\u001b[39;00m \u001b[38;5;28;01mNone\u001b[39;00m:\n\u001b[0;32m--> 135\u001b[0m     \u001b[38;5;28;01massert\u001b[39;00m \u001b[38;5;28mself\u001b[39m\u001b[38;5;241m.\u001b[39mH\u001b[38;5;241m.\u001b[39mshape[\u001b[38;5;241m1\u001b[39m] \u001b[38;5;241m==\u001b[39m infer_rank, \u001b[38;5;124m\"\u001b[39m\u001b[38;5;124mLatent size of H does not match with others!\u001b[39m\u001b[38;5;124m\"\u001b[39m\n\u001b[1;32m    136\u001b[0m \u001b[38;5;28;01mif\u001b[39;00m \u001b[38;5;28mgetattr\u001b[39m(\u001b[38;5;28mself\u001b[39m, \u001b[38;5;124m\"\u001b[39m\u001b[38;5;124mW\u001b[39m\u001b[38;5;124m\"\u001b[39m) \u001b[38;5;129;01mis\u001b[39;00m \u001b[38;5;129;01mnot\u001b[39;00m \u001b[38;5;28;01mNone\u001b[39;00m:\n\u001b[1;32m    137\u001b[0m     \u001b[38;5;28;01massert\u001b[39;00m \u001b[38;5;28mself\u001b[39m\u001b[38;5;241m.\u001b[39mW\u001b[38;5;241m.\u001b[39mshape[\u001b[38;5;241m1\u001b[39m] \u001b[38;5;241m==\u001b[39m infer_rank, \u001b[38;5;124m\"\u001b[39m\u001b[38;5;124mLatent size of W does not match with others!\u001b[39m\u001b[38;5;124m\"\u001b[39m\n",
      "\u001b[0;31mAssertionError\u001b[0m: Latent size of H does not match with others!"
     ]
    }
   ],
   "source": [
    "net = torchnmf.plca.PLCA(W=W, H=H, Z=Z, trainable_W=False)\n",
    "net.fit(V)"
   ]
  },
  {
   "cell_type": "code",
   "execution_count": null,
   "metadata": {},
   "outputs": [],
   "source": []
  }
 ],
 "metadata": {
  "kernelspec": {
   "display_name": ".venv",
   "language": "python",
   "name": "python3"
  },
  "language_info": {
   "codemirror_mode": {
    "name": "ipython",
    "version": 3
   },
   "file_extension": ".py",
   "mimetype": "text/x-python",
   "name": "python",
   "nbconvert_exporter": "python",
   "pygments_lexer": "ipython3",
   "version": "3.9.19"
  }
 },
 "nbformat": 4,
 "nbformat_minor": 2
}
