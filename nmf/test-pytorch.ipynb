{
 "cells": [
  {
   "cell_type": "code",
   "execution_count": null,
   "metadata": {},
   "outputs": [],
   "source": [
    "import torchnmf\n",
    "import torch\n",
    "import librosa\n",
    "import numpy as np\n",
    "import matplotlib.pyplot as plt\n",
    "from mixes.synthetic import SyntheticDB"
   ]
  },
  {
   "cell_type": "code",
   "execution_count": null,
   "metadata": {},
   "outputs": [],
   "source": [
    "def _transform_melspec(input, fs, n_mels, stft_win_func, win_len, hop_len):\n",
    "    spec = librosa.stft(\n",
    "        input,\n",
    "        n_fft=win_len,\n",
    "        hop_length=hop_len,\n",
    "        win_length=win_len,\n",
    "        center=True,\n",
    "        window=stft_win_func,\n",
    "    )\n",
    "    mel_f = librosa.filters.mel(sr=fs, n_fft=win_len, n_mels=n_mels)\n",
    "    melspec = mel_f.dot(abs(spec) ** 2)\n",
    "\n",
    "    return melspec\n",
    "\n",
    "\n",
    "FS = 22050\n",
    "HSIZE = 0.01\n",
    "WSIZE = 8 * HSIZE\n",
    "NMELS = 256\n",
    "\n",
    "db = SyntheticDB()\n",
    "mix = db.get_mix(\"linear-mix\")\n",
    "inputs = mix.as_activation_learner_input()\n",
    "specs = [\n",
    "    _transform_melspec(i, FS, NMELS, np.hanning, int(WSIZE * FS), int(HSIZE * FS))\n",
    "    for i in inputs\n",
    "]\n",
    "W = torch.Tensor(np.concatenate(specs[:-1], axis=1))\n",
    "# W /= W.sum(axis=1, keepdims=True)\n",
    "V = torch.Tensor(specs[-1])\n",
    "# X /= X.sum(axis=1, keepdims=True)\n",
    "H = abs(torch.randn((W.shape[1], V.shape[1])))\n",
    "Z = torch.ones(H.shape[0])"
   ]
  },
  {
   "cell_type": "code",
   "execution_count": null,
   "metadata": {},
   "outputs": [],
   "source": [
    "print(V.shape, W.shape, H.shape, Z.shape, (W @ H).shape)"
   ]
  },
  {
   "cell_type": "code",
   "execution_count": null,
   "metadata": {},
   "outputs": [],
   "source": [
    "net = torchnmf.plca.PLCA(W=W, H=H, Z=Z, trainable_W=False)\n",
    "net.fit(V)"
   ]
  },
  {
   "cell_type": "code",
   "execution_count": null,
   "metadata": {},
   "outputs": [],
   "source": []
  }
 ],
 "metadata": {
  "kernelspec": {
   "display_name": ".venv",
   "language": "python",
   "name": "python3"
  },
  "language_info": {
   "codemirror_mode": {
    "name": "ipython",
    "version": 3
   },
   "file_extension": ".py",
   "mimetype": "text/x-python",
   "name": "python",
   "nbconvert_exporter": "python",
   "pygments_lexer": "ipython3",
   "version": "3.9.19"
  }
 },
 "nbformat": 4,
 "nbformat_minor": 2
}
