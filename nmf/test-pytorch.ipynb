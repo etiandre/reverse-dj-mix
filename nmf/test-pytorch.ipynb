{
 "cells": [
  {
   "cell_type": "code",
   "execution_count": null,
   "metadata": {},
   "outputs": [],
   "source": [
    "import pytorch_nmf\n",
    "import torch\n",
    "import librosa\n",
    "import numpy as np\n",
    "import matplotlib.pyplot as plt"
   ]
  },
  {
   "cell_type": "code",
   "execution_count": null,
   "metadata": {},
   "outputs": [],
   "source": [
    "def _transform_melspec(input, fs, n_mels, stft_win_func, win_len, hop_len):\n",
    "    spec = librosa.stft(\n",
    "        input,\n",
    "        n_fft=win_len,\n",
    "        hop_length=hop_len,\n",
    "        win_length=win_len,\n",
    "        center=True,\n",
    "        window=stft_win_func,\n",
    "    )\n",
    "    mel_f = librosa.filters.mel(sr=fs, n_fft=win_len, n_mels=n_mels)\n",
    "    melspec = mel_f.dot(abs(spec) ** 2)\n",
    "\n",
    "    return melspec\n",
    "\n",
    "\n",
    "FS = 22050\n",
    "HSIZE = 0.01\n",
    "WSIZE = 8 * HSIZE\n",
    "NMELS = 256\n",
    "input_paths = [\"linear-mix-1.wav\", \"linear-mix-2.wav\", \"linear-mix.wav\"]\n",
    "inputs = [librosa.load(path, sr=FS)[0] for path in input_paths]\n",
    "specs = [_transform_melspec(i, FS, NMELS, np.hanning, int(WSIZE*FS), int(HSIZE*FS)) for i in inputs]\n",
    "W = torch.Tensor(np.concatenate(specs[:-1], axis=1))\n",
    "# W /= W.sum(axis=1, keepdims=True)\n",
    "V = torch.Tensor(specs[-1])\n",
    "# X /= X.sum(axis=1, keepdims=True)\n",
    "H = abs(torch.randn((W.shape[1], V.shape[1])))"
   ]
  },
  {
   "cell_type": "code",
   "execution_count": null,
   "metadata": {},
   "outputs": [],
   "source": [
    "print(V.shape, W.shape, H.shape, (W @ H).shape)"
   ]
  },
  {
   "cell_type": "code",
   "execution_count": null,
   "metadata": {},
   "outputs": [],
   "source": [
    "from tqdm import tqdm\n",
    "\n",
    "\n",
    "DIVERGENCE = pytorch_nmf.ItakuraSaito()\n",
    "PENALTIES = [\n",
    "    (pytorch_nmf.L1(), 1)\n",
    "]\n",
    "model = pytorch_nmf.NMF(V.T, W, H.T, DIVERGENCE, PENALTIES, trainable_W=False)\n",
    "for i in tqdm(range(1000)):\n",
    "    model.iterate()\n",
    "plt.imshow(model.Ht.T.detach(), aspect=\"auto\", origin=\"lower\")"
   ]
  },
  {
   "cell_type": "code",
   "execution_count": null,
   "metadata": {},
   "outputs": [],
   "source": []
  }
 ],
 "metadata": {
  "kernelspec": {
   "display_name": ".venv",
   "language": "python",
   "name": "python3"
  },
  "language_info": {
   "codemirror_mode": {
    "name": "ipython",
    "version": 3
   },
   "file_extension": ".py",
   "mimetype": "text/x-python",
   "name": "python",
   "nbconvert_exporter": "python",
   "pygments_lexer": "ipython3",
   "version": "3.12.1"
  }
 },
 "nbformat": 4,
 "nbformat_minor": 2
}
