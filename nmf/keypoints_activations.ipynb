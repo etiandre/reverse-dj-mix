{
 "cells": [
  {
   "cell_type": "code",
   "execution_count": null,
   "metadata": {},
   "outputs": [],
   "source": [
    "import param_estimator\n",
    "import pickle\n",
    "import estimator\n",
    "import matplotlib.pyplot as plt\n",
    "import logging\n",
    "import numpy as np\n",
    "\n",
    "plt.style.use(\"dark_background\")\n",
    "logging.basicConfig(level=logging.INFO)\n",
    "logging.getLogger(\"activation_learner\").setLevel(logging.DEBUG)"
   ]
  },
  {
   "cell_type": "code",
   "execution_count": null,
   "metadata": {},
   "outputs": [],
   "source": [
    "import librosa\n",
    "\n",
    "librosa.filters.mel(sr=22050, n_fft=256).dtype"
   ]
  },
  {
   "cell_type": "code",
   "execution_count": null,
   "metadata": {},
   "outputs": [],
   "source": [
    "with open(\"model.pickle\", \"rb\") as f:\n",
    "    model = pickle.load(f)"
   ]
  },
  {
   "cell_type": "code",
   "execution_count": null,
   "metadata": {},
   "outputs": [],
   "source": [
    "volumes = param_estimator.volumes(model.nmf.H.toarray(), model.colsum, model.split_idx)\n",
    "positions = param_estimator.positions(model.nmf.H.toarray(), model.split_idx)\n",
    "param_estimator.plot_vol_pos(volumes, positions, model.boundaries, model.fs)"
   ]
  },
  {
   "cell_type": "code",
   "execution_count": null,
   "metadata": {},
   "outputs": [],
   "source": [
    "import scipy.signal\n",
    "\n",
    "SILENCE_THRESHOLD = 0.01\n",
    "PLAYING_THRESHOLD = 0.99\n",
    "SMOOTH_WIN_S = 1.0\n",
    "mix_times = param_estimator.frames_to_times(\n",
    "    np.arange(len(model.boundaries[-1])), model.boundaries[-1], model.fs\n",
    ")\n",
    "\n",
    "\n",
    "def largest_unmasked_clump(masked_array):\n",
    "    slices = np.ma.clump_unmasked(masked_array)\n",
    "    assert len(slices) > 0\n",
    "    return max(slices, key=lambda s: s.stop - s.start)\n",
    "\n",
    "\n",
    "def largest_masked_clump(masked_array):\n",
    "    slices = np.ma.clump_masked(masked_array)\n",
    "    assert len(slices) > 0\n",
    "    return max(slices, key=lambda s: s.stop - s.start)\n",
    "\n",
    "\n",
    "for pos, vol, bounds in zip(positions, volumes, model.boundaries):\n",
    "    # convert frame to times\n",
    "    pos = param_estimator.frames_to_times(pos, bounds, model.fs)\n",
    "    times = param_estimator.frames_to_times(np.arange(len(pos)), bounds, model.fs)\n",
    "\n",
    "    vol_filt = scipy.signal.medfilt(vol, 15)\n",
    "    min_vol, max_vol = np.min(vol_filt), np.max(vol_filt)\n",
    "    silence_threshold, playing_threshold = 0.1, max_vol * 0.9\n",
    "    threshold = (max_vol - min_vol) / 2\n",
    "    crossings = np.where(np.diff(np.sign(vol_filt - threshold)))[0]\n",
    "    fades = []\n",
    "    for crossing in crossings:\n",
    "        rising = vol_filt[crossing] < vol_filt[crossing + 1]\n",
    "        if rising:\n",
    "            fade_start = crossing + np.argmax(vol[crossing:-1] >= playing_threshold)\n",
    "            fade_end = np.argmax(vol[:crossing] <= silence_threshold)\n",
    "        else:\n",
    "            fade_start = np.argmax(vol[:crossing:-1] >= playing_threshold)\n",
    "            fade_end = crossing + np.argmax(vol[crossing:] <= silence_threshold)\n",
    "        fades.append((fade_start, fade_end))\n",
    "    plt.figure(figsize=(15, 5))\n",
    "    plt.plot(vol)\n",
    "    plt.plot(vol_filt)\n",
    "    for i in crossings:\n",
    "        plt.axvline(i, color=\"red\")\n",
    "    for a, b in fades:\n",
    "        print(a, b)\n",
    "        plt.axvline(a, color=\"blue\")\n",
    "        plt.axvline(b, color=\"yellow\")\n",
    "    plt.axhline(silence_threshold)\n",
    "    plt.axhline(playing_threshold)\n",
    "\n",
    "    plt.legend()\n",
    "    plt.show()"
   ]
  },
  {
   "cell_type": "code",
   "execution_count": null,
   "metadata": {},
   "outputs": [],
   "source": [
    "mix_times = param_estimator.frames_to_times(\n",
    "    np.arange(len(model.boundaries[-1])), model.boundaries[-1], model.fs\n",
    ")\n",
    "for pos, vol, bounds in zip(positions, volumes, model.boundaries):\n",
    "    # convert frame to times\n",
    "    pos = param_estimator.frames_to_times(pos, bounds, model.fs)\n",
    "    times = param_estimator.frames_to_times(np.arange(len(pos)), bounds, model.fs)\n",
    "\n",
    "    vol_filt = scipy.signal.medfilt(vol, 15)\n",
    "\n",
    "    min_vol, max_vol = np.min(vol_filt), np.max(vol_filt)\n",
    "    silence_threshold, playing_threshold = 0.1, max_vol * 0.9\n",
    "    threshold = (max_vol - min_vol) / 2\n",
    "\n",
    "    plt.plot(mix_times, vol_filt)\n",
    "    plt.plot(mix_times, np.gradient(vol_filt))\n",
    "    plt.plot(mix_times, np.sign(vol_filt - threshold))\n",
    "    plt.show()"
   ]
  },
  {
   "cell_type": "code",
   "execution_count": null,
   "metadata": {},
   "outputs": [],
   "source": []
  }
 ],
 "metadata": {
  "kernelspec": {
   "display_name": ".venv",
   "language": "python",
   "name": "python3"
  },
  "language_info": {
   "codemirror_mode": {
    "name": "ipython",
    "version": 3
   },
   "file_extension": ".py",
   "mimetype": "text/x-python",
   "name": "python",
   "nbconvert_exporter": "python",
   "pygments_lexer": "ipython3",
   "version": "3.12.1"
  }
 },
 "nbformat": 4,
 "nbformat_minor": 2
}
