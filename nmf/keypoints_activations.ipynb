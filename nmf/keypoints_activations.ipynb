{
 "cells": [
  {
   "cell_type": "code",
   "execution_count": null,
   "metadata": {},
   "outputs": [],
   "source": [
    "import param_estimator\n",
    "import matplotlib.pyplot as plt\n",
    "import logging\n",
    "import numpy as np\n",
    "import scipy.stats\n",
    "\n",
    "plt.style.use(\"dark_background\")\n",
    "logging.basicConfig(level=logging.INFO)\n",
    "logging.getLogger(\"activation_learner\").setLevel(logging.DEBUG)"
   ]
  },
  {
   "cell_type": "code",
   "execution_count": null,
   "metadata": {},
   "outputs": [],
   "source": [
    "# make synthetic data\n",
    "tau = np.linspace(0, 60, 600)\n",
    "warp_slope = 2\n",
    "warp_offset = 8\n",
    "warp = warp_slope * tau + warp_offset\n",
    "warp += (np.random.rand(len(tau)) - 0.5) * 0.1\n",
    "warp += 5 * np.sin(tau * 5)\n",
    "\n",
    "gain = np.zeros_like(tau)\n",
    "gain[200:300] = np.linspace(0, 1, 100)\n",
    "gain[300:400] = 1\n",
    "gain[400:450] = np.linspace(1, 0, 50)\n",
    "gain += 0.1 * np.sin(tau * 10)\n",
    "gain += (np.random.rand(len(tau)) - 0.5) * 0.5\n",
    "\n",
    "plt.plot(tau, warp)\n",
    "plt.show()\n",
    "plt.plot(tau, gain)"
   ]
  },
  {
   "cell_type": "code",
   "execution_count": null,
   "metadata": {},
   "outputs": [],
   "source": [
    "param_estimator.estimate_highparams(tau, gain, warp, filter_size=3, plot=True)"
   ]
  },
  {
   "cell_type": "code",
   "execution_count": null,
   "metadata": {},
   "outputs": [],
   "source": []
  }
 ],
 "metadata": {
  "kernelspec": {
   "display_name": ".venv",
   "language": "python",
   "name": "python3"
  },
  "language_info": {
   "codemirror_mode": {
    "name": "ipython",
    "version": 3
   },
   "file_extension": ".py",
   "mimetype": "text/x-python",
   "name": "python",
   "nbconvert_exporter": "python",
   "pygments_lexer": "ipython3",
   "version": "3.12.1"
  }
 },
 "nbformat": 4,
 "nbformat_minor": 2
}
