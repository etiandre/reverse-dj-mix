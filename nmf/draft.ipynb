{
 "cells": [
  {
   "cell_type": "code",
   "execution_count": null,
   "metadata": {},
   "outputs": [],
   "source": [
    "from pathlib import Path\n",
    "import numpy as np\n",
    "import matplotlib.pyplot as plt\n",
    "import pandas as pd\n",
    "import seaborn as sns\n",
    "import pickle\n",
    "from tqdm import tqdm\n",
    "\n",
    "sns.set_theme(\"notebook\")"
   ]
  },
  {
   "cell_type": "code",
   "execution_count": null,
   "metadata": {},
   "outputs": [],
   "source": [
    "# RESULTS_DIR = Path(\"/data5/anasynth_nonbp/andre/reverse-dj-mix/results\")\n",
    "RESULTS_DIR = Path(\"/home/etiandre/stage/results\")\n",
    "# UNMIXDB_PATH = Path(\"/data2/anasynth_nonbp/schwarz/abc-dj/data/unmixdb-zenodo\")\n",
    "UNMIXDB_PATH = Path(\"/home/etiandre/stage/datasets/unmixdb\")"
   ]
  },
  {
   "cell_type": "code",
   "execution_count": null,
   "metadata": {},
   "outputs": [],
   "source": [
    "results = []\n",
    "for i in tqdm(RESULTS_DIR.glob(\"*/*/results.pickle\")):\n",
    "    with open(i, \"rb\") as f:\n",
    "        data = pickle.load(f)\n",
    "        data[\"run\"] = i.parent.parent.name\n",
    "        results.append(data)"
   ]
  },
  {
   "cell_type": "code",
   "execution_count": null,
   "metadata": {},
   "outputs": [],
   "source": [
    "import math\n",
    "\n",
    "\n",
    "data = (\n",
    "    pd.json_normalize(results)\n",
    ")\n",
    "data[[\"set\", \"mix\", \"stretch\", \"fx\", \"submix\"]] = data[\"mix.name\"].str.extract(r\"set(\\d+)mix(\\d+)-(\\w+)-(\\w+)-(\\d+)\")\n",
    "data[\"transformation\"] = data[\"stretch\"] + \" \" + data[\"fx\"]\n",
    "data"
   ]
  },
  {
   "cell_type": "code",
   "execution_count": null,
   "metadata": {},
   "outputs": [],
   "source": [
    "sns.boxplot(data, x=\"transformation\", y=\"gain_err\", hue=\"run\", log_scale=True)\n",
    "plt.xticks(rotation=90)\n",
    "plt.show()"
   ]
  },
  {
   "cell_type": "code",
   "execution_count": null,
   "metadata": {},
   "outputs": [],
   "source": [
    "sns.boxplot(data, x=\"transformation\", y=\"warp_err\", hue=\"run\", log_scale=True)\n",
    "plt.xticks(rotation=90)\n",
    "plt.show()"
   ]
  },
  {
   "cell_type": "code",
   "execution_count": null,
   "metadata": {},
   "outputs": [],
   "source": [
    "data.sort_values(by=\"warp_err\")"
   ]
  },
  {
   "cell_type": "code",
   "execution_count": null,
   "metadata": {},
   "outputs": [],
   "source": [
    "import json"
   ]
  }
 ],
 "metadata": {
  "kernelspec": {
   "display_name": ".venv",
   "language": "python",
   "name": "python3"
  },
  "language_info": {
   "codemirror_mode": {
    "name": "ipython",
    "version": 3
   },
   "file_extension": ".py",
   "mimetype": "text/x-python",
   "name": "python",
   "nbconvert_exporter": "python",
   "pygments_lexer": "ipython3",
   "version": "3.12.4"
  }
 },
 "nbformat": 4,
 "nbformat_minor": 2
}
