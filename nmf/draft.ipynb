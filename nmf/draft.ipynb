{
 "cells": [
  {
   "cell_type": "code",
   "execution_count": null,
   "metadata": {},
   "outputs": [],
   "source": [
    "from pathlib import Path\n",
    "import numpy as np\n",
    "import matplotlib.pyplot as plt\n",
    "import pandas as pd\n",
    "import seaborn as sns\n",
    "import pickle\n",
    "from tqdm import tqdm\n",
    "\n",
    "sns.set_theme(\"notebook\")"
   ]
  },
  {
   "cell_type": "code",
   "execution_count": null,
   "metadata": {},
   "outputs": [],
   "source": [
    "RESULTS_DIR = Path(\"/data5/anasynth_nonbp/andre/reverse-dj-mix/results\")\n",
    "UNMIXDB_PATH = Path(\"/data2/anasynth_nonbp/schwarz/abc-dj/data/unmixdb-zenodo\")"
   ]
  },
  {
   "cell_type": "code",
   "execution_count": null,
   "metadata": {},
   "outputs": [],
   "source": [
    "results = []\n",
    "for i in tqdm(RESULTS_DIR.glob(\"*/*/results.pickle\")):\n",
    "    with open(i, \"rb\") as f:\n",
    "        data = pickle.load(f)\n",
    "        data[\"run\"] = i.parent.parent.name\n",
    "        results.append(data)"
   ]
  },
  {
   "cell_type": "code",
   "execution_count": null,
   "metadata": {},
   "outputs": [],
   "source": [
    "data = (\n",
    "    pd.json_normalize(results)\n",
    ")\n",
    "cols = [\n",
    "    \"fadeout_start.err\",\n",
    "    \"fadeout_stop.err\",\n",
    "    \"fadein_start.err\",\n",
    "    \"fadein_stop.err\",\n",
    "    \"track_start.err\",\n",
    "    \"speed.err\",\n",
    "]\n",
    "\n",
    "for col in cols:\n",
    "    data[col] = data[col].apply(lambda x: np.mean(x))\n",
    "\n",
    "data = data.apply(pd.to_numeric, errors=\"ignore\")\n",
    "data[[\"stretch\", \"fx\"]] = data[\"mix_name\"].str.extract(r\"set\\d+mix\\d+-(\\w+)-(\\w+)-\\d+\")\n",
    "data[\"stretch\"] = data[\"stretch\"].str.slice(0, 5)\n",
    "data[\"fx\"] = data[\"fx\"].str.slice(0, 5)\n",
    "data[\"transformation\"] = data[\"stretch\"] + \" \" + data[\"fx\"]\n",
    "data"
   ]
  },
  {
   "cell_type": "code",
   "execution_count": null,
   "metadata": {},
   "outputs": [],
   "source": [
    "sns.boxplot(data, x=\"transformation\", y=\"gain.err\", hue=\"run\", log_scale=True)\n",
    "plt.xticks(rotation=90)\n",
    "plt.show()"
   ]
  },
  {
   "cell_type": "code",
   "execution_count": null,
   "metadata": {},
   "outputs": [],
   "source": [
    "sns.boxplot(data, x=\"transformation\", y=\"warp.err\", hue=\"run\", log_scale=True)\n",
    "plt.xticks(rotation=90)\n",
    "plt.show()"
   ]
  },
  {
   "cell_type": "code",
   "execution_count": null,
   "metadata": {},
   "outputs": [],
   "source": [
    "for i in cols:\n",
    "    sns.boxplot(data, x=\"transformation\", y=i, hue=\"run\", log_scale=True)\n",
    "    plt.xticks(rotation=90)\n",
    "    plt.show()"
   ]
  },
  {
   "cell_type": "code",
   "execution_count": null,
   "metadata": {},
   "outputs": [],
   "source": [
    "data[\"fadeout_start.err\"]"
   ]
  },
  {
   "cell_type": "code",
   "execution_count": null,
   "metadata": {},
   "outputs": [],
   "source": []
  }
 ],
 "metadata": {
  "kernelspec": {
   "display_name": ".venv",
   "language": "python",
   "name": "python3"
  },
  "language_info": {
   "codemirror_mode": {
    "name": "ipython",
    "version": 3
   },
   "file_extension": ".py",
   "mimetype": "text/x-python",
   "name": "python",
   "nbconvert_exporter": "python",
   "pygments_lexer": "ipython3",
   "version": "3.12.1"
  }
 },
 "nbformat": 4,
 "nbformat_minor": 2
}
