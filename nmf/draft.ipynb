{
 "cells": [
  {
   "cell_type": "code",
   "execution_count": null,
   "metadata": {},
   "outputs": [],
   "source": [
    "from pathlib import Path\n",
    "import numpy as np\n",
    "import soundfile\n",
    "import matplotlib.pyplot as plt\n",
    "import librosa\n",
    "from pprint import pprint\n",
    "import scipy.ndimage\n",
    "import scipy.signal\n",
    "import logging\n",
    "import itertools\n",
    "import pandas as pd\n",
    "import seaborn as sns\n",
    "import scipy.sparse\n",
    "import datetime\n",
    "import os\n",
    "import pickle\n",
    "from tqdm import tqdm\n",
    "import time\n",
    "from tabulate import tabulate\n",
    "\n",
    "sns.set_theme()"
   ]
  },
  {
   "cell_type": "code",
   "execution_count": null,
   "metadata": {},
   "outputs": [],
   "source": [
    "RESULTS_DIR = Path(\"/data5/anasynth_nonbp/andre/reverse-dj-mix/results\")\n",
    "UNMIXDB_PATH = Path(\"/data2/anasynth_nonbp/schwarz/abc-dj/data/unmixdb-zenodo\")"
   ]
  },
  {
   "cell_type": "code",
   "execution_count": null,
   "metadata": {},
   "outputs": [],
   "source": [
    "results = []\n",
    "for i in tqdm(RESULTS_DIR.glob(\"*/*/results.pickle\")):\n",
    "    with open(i, \"rb\") as f:\n",
    "        data = pickle.load(f)\n",
    "        data[\"run\"] = i.parent.parent.name\n",
    "        results.append(data)"
   ]
  },
  {
   "cell_type": "code",
   "execution_count": null,
   "metadata": {},
   "outputs": [],
   "source": [
    "data = (\n",
    "    pd.json_normalize(results)\n",
    "    .explode(\n",
    "        [\n",
    "            \"fadeout_start.real\",\n",
    "            \"fadeout_start.err\",\n",
    "            \"fadeout_start.est\",\n",
    "            \"fadeout_stop.real\",\n",
    "            \"fadeout_stop.err\",\n",
    "            \"fadeout_stop.est\",\n",
    "            \"fadein_start.real\",\n",
    "            \"fadein_start.err\",\n",
    "            \"fadein_start.est\",\n",
    "            \"fadein_stop.real\",\n",
    "            \"fadein_stop.err\",\n",
    "            \"fadein_stop.est\",\n",
    "            \"track_start.real\",\n",
    "            \"track_start.err\",\n",
    "            \"track_start.est\",\n",
    "        ]\n",
    "    )\n",
    "    .reset_index(drop=True)\n",
    "    .apply(pd.to_numeric, errors=\"ignore\")\n",
    "    # .dropna()\n",
    ")\n",
    "data"
   ]
  },
  {
   "cell_type": "code",
   "execution_count": null,
   "metadata": {},
   "outputs": [],
   "source": [
    "sns.boxplot(data, x=\"run\", y=\"gain.err\")"
   ]
  },
  {
   "cell_type": "code",
   "execution_count": null,
   "metadata": {},
   "outputs": [],
   "source": [
    "sns.boxplot(data, x=\"run\", y=\"warp.err\")"
   ]
  },
  {
   "cell_type": "code",
   "execution_count": null,
   "metadata": {},
   "outputs": [],
   "source": [
    "cols = [\n",
    "    \"track_start.err\",\n",
    "    \"fadein_start.err\",\n",
    "    \"fadein_stop.err\",\n",
    "    \"fadeout_start.err\",\n",
    "    \"fadeout_stop.err\",\n",
    "]\n",
    "sns.boxplot(\n",
    "    pd.melt(data, value_vars=cols), y=\"variable\", x='value'\n",
    ")"
   ]
  },
  {
   "cell_type": "code",
   "execution_count": null,
   "metadata": {},
   "outputs": [],
   "source": [
    "pd.melt(data, value_vars=cols)"
   ]
  },
  {
   "cell_type": "code",
   "execution_count": null,
   "metadata": {},
   "outputs": [],
   "source": []
  }
 ],
 "metadata": {
  "kernelspec": {
   "display_name": ".venv",
   "language": "python",
   "name": "python3"
  },
  "language_info": {
   "codemirror_mode": {
    "name": "ipython",
    "version": 3
   },
   "file_extension": ".py",
   "mimetype": "text/x-python",
   "name": "python",
   "nbconvert_exporter": "python",
   "pygments_lexer": "ipython3",
   "version": "3.12.1"
  }
 },
 "nbformat": 4,
 "nbformat_minor": 2
}
