{
 "cells": [
  {
   "cell_type": "code",
   "execution_count": null,
   "metadata": {},
   "outputs": [],
   "source": [
    "from pathlib import Path\n",
    "import numpy as np\n",
    "import matplotlib.pyplot as plt\n",
    "import pandas as pd\n",
    "import seaborn as sns\n",
    "import pickle\n",
    "from tqdm import tqdm\n",
    "\n",
    "sns.set_theme(\"notebook\")"
   ]
  },
  {
   "cell_type": "code",
   "execution_count": null,
   "metadata": {},
   "outputs": [],
   "source": [
    "# RESULTS_DIR = Path(\"/data5/anasynth_nonbp/andre/reverse-dj-mix/results\")\n",
    "RESULTS_DIR = Path(\"/home/etiandre/stage/results\")\n",
    "# UNMIXDB_PATH = Path(\"/data2/anasynth_nonbp/schwarz/abc-dj/data/unmixdb-zenodo\")\n",
    "UNMIXDB_PATH = Path(\"/home/etiandre/stage/datasets/unmixdb\")"
   ]
  },
  {
   "cell_type": "code",
   "execution_count": null,
   "metadata": {},
   "outputs": [],
   "source": [
    "results = []\n",
    "for i in tqdm(RESULTS_DIR.glob(\"*/*/results.pickle\")):\n",
    "    with open(i, \"rb\") as f:\n",
    "        data = pickle.load(f)\n",
    "        data[\"run\"] = i.parent.parent.name\n",
    "        results.append(data)"
   ]
  },
  {
   "cell_type": "code",
   "execution_count": null,
   "metadata": {},
   "outputs": [],
   "source": [
    "data = (\n",
    "    pd.json_normalize(results)\n",
    ")\n",
    "data[[\"id\", \"stretch\", \"fx\", \"submix\"]] = data[\"name\"].str.extract(r\"(set\\d+mix\\d+)-(\\w+)-(\\w+)-(\\d+)\")\n",
    "data[\"stretch\"] = data[\"stretch\"].replace(\"resample\", \"resamp\")\n",
    "data[\"fx\"] = data[\"fx\"].replace(\"distortion\", \"dist\")\n",
    "data[\"fx\"] = data[\"fx\"].replace(\"compressor\", \"comp\")\n",
    "data[\"transformation\"] = data[\"stretch\"] + \"\\n\" + data[\"fx\"]"
   ]
  },
  {
   "cell_type": "code",
   "execution_count": null,
   "metadata": {},
   "outputs": [],
   "source": [
    "data.groupby(\"run\").count()"
   ]
  },
  {
   "cell_type": "code",
   "execution_count": null,
   "metadata": {},
   "outputs": [],
   "source": [
    "order = [\n",
    "    \"none\\nnone\",\n",
    "    \"none\\nbass\",\n",
    "    \"none\\ncomp\",\n",
    "    \"none\\ndist\",\n",
    "    \"resamp\\nnone\",\n",
    "    \"resamp\\nbass\",\n",
    "    \"resamp\\ncomp\",\n",
    "    \"resamp\\ndist\",\n",
    "    \"stretch\\nnone\",\n",
    "    \"stretch\\nbass\",\n",
    "    \"stretch\\ncomp\",\n",
    "    \"stretch\\ndist\",\n",
    "]\n",
    "plt.figure(figsize=(8, 6))\n",
    "sns.boxplot(data, x=\"transformation\", y=\"gain_err\", hue=\"run\", log_scale=True, order=order)\n",
    "plt.ylabel(\"mean linear estimated gain error\")\n",
    "plt.show()"
   ]
  },
  {
   "cell_type": "code",
   "execution_count": null,
   "metadata": {},
   "outputs": [],
   "source": [
    "sns.boxplot(data, x=\"transformation\", y=\"warp_err\", hue=\"run\", log_scale=False, order=order)\n",
    "plt.xticks(rotation=90)\n",
    "plt.ylabel(\"mean estimated warp error (s)\")\n",
    "plt.show()"
   ]
  },
  {
   "cell_type": "code",
   "execution_count": null,
   "metadata": {},
   "outputs": [],
   "source": [
    "HIGHPARAMS = [\n",
    "    \"track_start_err\",\n",
    "    \"speed_err\",\n",
    "    \"fadein_start_err\",\n",
    "    \"fadein_stop_err\",\n",
    "    \"fadeout_start_err\",\n",
    "    \"fadeout_stop_err\",\n",
    "]\n",
    "\n",
    "HIGHPARAMS_names = [\n",
    "    \"track start mean error (s)\",\n",
    "    \"speed mean error\",\n",
    "    \"fade-in start mean error (s)\",\n",
    "    \"fade-in end mean error (s)\",\n",
    "    \"fade-out start mean error (s)\",\n",
    "    \"fade-out end mean error (s)\",\n",
    "]\n",
    "\n",
    "for i,p in enumerate(HIGHPARAMS):\n",
    "    sns.boxplot(data, x=\"transformation\", y=p, hue=\"run\", log_scale=i != 1, order=order)\n",
    "    plt.xticks(rotation=90)\n",
    "    plt.ylabel(HIGHPARAMS_names[i])\n",
    "    if i == 0:\n",
    "        plt.ylim(0, 1e3)\n",
    "    plt.show()"
   ]
  },
  {
   "cell_type": "code",
   "execution_count": null,
   "metadata": {},
   "outputs": [],
   "source": [
    "data.loc[(data.stretch == \"none\") & (data.fx == \"none\")].sort_values(by=\"warp_err\", ascending=False)"
   ]
  },
  {
   "cell_type": "code",
   "execution_count": null,
   "metadata": {},
   "outputs": [],
   "source": [
    "data.loc[240]"
   ]
  }
 ],
 "metadata": {
  "kernelspec": {
   "display_name": ".venv",
   "language": "python",
   "name": "python3"
  },
  "language_info": {
   "codemirror_mode": {
    "name": "ipython",
    "version": 3
   },
   "file_extension": ".py",
   "mimetype": "text/x-python",
   "name": "python",
   "nbconvert_exporter": "python",
   "pygments_lexer": "ipython3",
   "version": "3.12.4"
  }
 },
 "nbformat": 4,
 "nbformat_minor": 2
}
