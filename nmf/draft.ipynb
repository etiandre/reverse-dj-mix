{
 "cells": [
  {
   "cell_type": "code",
   "execution_count": null,
   "metadata": {},
   "outputs": [],
   "source": [
    "from pathlib import Path\n",
    "import numpy as np\n",
    "import soundfile\n",
    "import matplotlib.pyplot as plt\n",
    "import librosa\n",
    "from pprint import pprint\n",
    "import scipy.ndimage\n",
    "import scipy.signal\n",
    "import logging\n",
    "import itertools\n",
    "import scipy.sparse\n",
    "import datetime\n",
    "import os\n",
    "import pickle\n",
    "from tqdm import tqdm\n",
    "import time\n",
    "from tabulate import tabulate"
   ]
  },
  {
   "cell_type": "code",
   "execution_count": null,
   "metadata": {},
   "outputs": [],
   "source": [
    "RESULTS_DIR = Path(\"/data5/anasynth_nonbp/andre/reverse-dj-mix/results\")\n",
    "UNMIXDB_PATH = Path(\"/data2/anasynth_nonbp/schwarz/abc-dj/data/unmixdb-zenodo\")"
   ]
  },
  {
   "cell_type": "code",
   "execution_count": null,
   "metadata": {},
   "outputs": [],
   "source": [
    "results = []\n",
    "for i in tqdm(RESULTS_DIR.glob(\"*/*/results.pickle\")):\n",
    "    with open(i, \"rb\") as f:\n",
    "        results.append(pickle.load(f))"
   ]
  },
  {
   "cell_type": "code",
   "execution_count": null,
   "metadata": {},
   "outputs": [],
   "source": [
    "results[8]"
   ]
  },
  {
   "cell_type": "code",
   "execution_count": null,
   "metadata": {},
   "outputs": [],
   "source": [
    "import param_estimator\n",
    "\n",
    "\n",
    "def dump_result(result: dict):\n",
    "    for i in range(3):\n",
    "        for g_estor in result[\"highparams\"][i]:\n",
    "            if g_estor == \"real\":\n",
    "                continue\n",
    "            for w_estor in result[\"highparams\"][i][g_estor]:\n",
    "                print(i, g_estor, w_estor)\n",
    "                print(f\"{\"param\":<20} {\"real\":>8} {\"est\":>8} {\"err\":>8}\")\n",
    "                for p in result[\"highparams\"][i][g_estor][w_estor]:\n",
    "                    real = result[\"highparams\"][i][\"real\"][p]\n",
    "                    est = result[\"highparams\"][i][g_estor][w_estor][p]\n",
    "                    err = param_estimator.error(est, real)\n",
    "                    print(f\"{p:<20} {real: 8.2f} {est: 8.2f} {err: 8.2e}\")\n",
    "dump_result(results[0])"
   ]
  },
  {
   "cell_type": "code",
   "execution_count": null,
   "metadata": {},
   "outputs": [],
   "source": [
    "import seaborn as sns\n",
    "import pandas as pd\n",
    "\n",
    "def aggregate(p, g_estor, w_estor, results):\n",
    "    ret = []\n",
    "    for r in results:\n",
    "        for i in range(3):\n",
    "            try:\n",
    "                real = r[\"highparams\"][i][\"real\"][p]\n",
    "                est = r[\"highparams\"][i][g_estor][w_estor][p]\n",
    "                err = param_estimator.error(est, real)\n",
    "                ret.append(err)\n",
    "            except KeyError:\n",
    "                pass\n",
    "    return ret\n",
    "\n",
    "df = pd.DataFrame(columns=['estors', 'param', 'error'])\n",
    "for param in [\"track_start\",\"fadein_start\",\"fadein_stop\",\"fadeout_start\",\"fadeout_stop\"]:\n",
    "    for g_estor in [\"GainEstimator.SUM\", \"GainEstimator.MAX\", \"GainEstimator.RELSUM\"]:\n",
    "        for w_estor in [\"WarpEstimator.ARGMAX\", \"WarpEstimator.CENTER_OF_MASS\"]:\n",
    "            errors = aggregate(param, g_estor, w_estor, results)\n",
    "            new_rows = pd.DataFrame({'estors': g_estor+\" \"+w_estor, \"param\": param, 'error': errors})\n",
    "            df = pd.concat([df, new_rows], ignore_index=True)\n",
    "sns.boxplot(x='param', y='error', hue='estors', data=df, log_scale=True)\n",
    "plt.title(f'High param estimation errors')\n",
    "plt.ylim(1e-12,1e2)\n",
    "plt.show()"
   ]
  },
  {
   "cell_type": "code",
   "execution_count": null,
   "metadata": {},
   "outputs": [],
   "source": []
  }
 ],
 "metadata": {
  "kernelspec": {
   "display_name": ".venv",
   "language": "python",
   "name": "python3"
  },
  "language_info": {
   "codemirror_mode": {
    "name": "ipython",
    "version": 3
   },
   "file_extension": ".py",
   "mimetype": "text/x-python",
   "name": "python",
   "nbconvert_exporter": "python",
   "pygments_lexer": "ipython3",
   "version": "3.12.1"
  }
 },
 "nbformat": 4,
 "nbformat_minor": 2
}
