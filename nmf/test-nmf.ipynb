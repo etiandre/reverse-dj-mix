{
 "cells": [
  {
   "cell_type": "code",
   "execution_count": null,
   "metadata": {},
   "outputs": [],
   "source": [
    "import logging\n",
    "from pathlib import Path\n",
    "from pprint import pprint\n",
    "import matplotlib.pyplot as plt\n",
    "import numpy as np\n",
    "\n",
    "USE_GPU = False\n",
    "\n",
    "if USE_GPU:\n",
    "    import manage_gpus as gpl\n",
    "\n",
    "    gpl.get_gpu_lock()\n",
    "import activation_learner\n",
    "from pytorch_nmf import BetaDivergence\n",
    "import param_estimator\n",
    "import plot\n",
    "from mixes.unmixdb import UnmixDB\n",
    "from mixes.brabants import Brabants\n",
    "import carve"
   ]
  },
  {
   "cell_type": "code",
   "execution_count": null,
   "metadata": {},
   "outputs": [],
   "source": [
    "# hyperparams\n",
    "\n",
    "FS = 22050\n",
    "HOP_SIZES = [4, 2, 1, 0.5]\n",
    "OVERLAP = 8\n",
    "NMELS = 128\n",
    "SPEC_POWER = 2\n",
    "DIVERGENCE = BetaDivergence(0)\n",
    "GAIN_ESTOR = param_estimator.GainEstimator.SUM\n",
    "WARP_ESTOR = param_estimator.WarpEstimator.ARGMAX\n",
    "LOW_POWER_THRESHOLD = 1e-2\n",
    "CARVE_THRESHOLD = 1e-6\n",
    "CARVE_BLUR_SIZE = 3\n",
    "CARVE_MIN_DURATION = 10\n",
    "CARVE_MAX_SLOPE = 1.5\n",
    "# stop conditions\n",
    "DLOSS_MIN = 1e-10\n",
    "ITER_MAX = 5000\n",
    "# paths\n",
    "# RESULTS_DIR = Path(\"/data5/anasynth_nonbp/andre/reverse-dj-mix/results\")\n",
    "RESULTS_DIR = Path(\"/home/etiandre/stage/results/\")\n",
    "# UNMIXDB_PATH = Path(\"/data2/anasynth_nonbp/schwarz/abc-dj/data/unmixdb-zenodo\")\n",
    "DATASET_PATH = Path(\"/home/etiandre/stage/datasets/unmixdb/\")\n",
    "# DATASET_PATH = Path(\"/home/etiandre/stage/datasets/dj_mix_ground_truth_extractor_dataset\")\n",
    "#############################"
   ]
  },
  {
   "cell_type": "code",
   "execution_count": null,
   "metadata": {},
   "outputs": [],
   "source": [
    "dataset = UnmixDB(DATASET_PATH) \n",
    "# dataset = SyntheticDB()\n",
    "# mix = dataset.get_mix(\"set044mix3-none-none-15.mp3\")\n",
    "mix = dataset.mixes[0]\n",
    "logger = logging.getLogger()\n",
    "logging.basicConfig()\n",
    "logger.setLevel(logging.INFO)\n",
    "logger.info(mix.name)\n",
    "\n",
    "inputs = [track.audio for track in mix.tracks] + [mix.audio]"
   ]
  },
  {
   "cell_type": "code",
   "execution_count": null,
   "metadata": {},
   "outputs": [],
   "source": [
    "learner, loss_history = activation_learner.multistage(\n",
    "    inputs,\n",
    "    FS,\n",
    "    hops=HOP_SIZES,\n",
    "    overlap=OVERLAP,\n",
    "    nmels=NMELS,\n",
    "    low_power_threshold=LOW_POWER_THRESHOLD,\n",
    "    spec_power=SPEC_POWER,\n",
    "    divergence=DIVERGENCE,\n",
    "    iter_max=ITER_MAX,\n",
    "    dloss_min=DLOSS_MIN,\n",
    "    carve_threshold=CARVE_THRESHOLD,\n",
    "    carve_blur_size=CARVE_BLUR_SIZE,\n",
    "    carve_min_duration=CARVE_MIN_DURATION,\n",
    "    carve_max_slope=CARVE_MAX_SLOPE,\n",
    "    doplot=True,\n",
    ")"
   ]
  },
  {
   "cell_type": "code",
   "execution_count": null,
   "metadata": {},
   "outputs": [],
   "source": [
    "# get ground truth\n",
    "tau = np.arange(0, learner.V.shape[1]) * HOP_SIZES[-1]\n",
    "real_gain = mix.gain(tau)\n",
    "real_warp = mix.warp(tau)\n",
    "\n",
    "# estimate gain\n",
    "logger.info(f\"Estimating gain with method {GAIN_ESTOR}\")\n",
    "est_gain = GAIN_ESTOR(learner.H, learner.split_idx, SPEC_POWER)\n",
    "\n",
    "# estimate warp\n",
    "logger.info(f\"Estimating warp with method {WARP_ESTOR}\")\n",
    "est_warp = WARP_ESTOR(learner.H, learner.split_idx, HOP_SIZES[-1])\n",
    "\n",
    "gain_err = param_estimator.error(est_gain, real_gain)\n",
    "warp_err = param_estimator.error(est_warp, real_warp)\n",
    "\n",
    "plt.figure(figsize=(16,16))\n",
    "plot.plot_H(learner.H.detach().numpy())\n",
    "\n",
    "plt.figure(figsize=(16,8))\n",
    "plot.plot_gain(tau, est_gain, real_gain)\n",
    "plt.title(f\"Gain err={gain_err:.2e}\")\n",
    "plt.show()\n",
    "\n",
    "plt.figure(figsize=(16,8))\n",
    "plot.plot_warp(tau, est_warp, real_warp)\n",
    "plt.title(f\"Warp err={warp_err:.2e}\")\n",
    "plt.show()\n"
   ]
  },
  {
   "cell_type": "code",
   "execution_count": null,
   "metadata": {},
   "outputs": [],
   "source": [
    "plt.plot(abs(est_gain - real_gain))"
   ]
  },
  {
   "cell_type": "code",
   "execution_count": null,
   "metadata": {},
   "outputs": [],
   "source": []
  }
 ],
 "metadata": {
  "kernelspec": {
   "display_name": "Python 3 (ipykernel)",
   "language": "python",
   "name": "python3"
  },
  "language_info": {
   "codemirror_mode": {
    "name": "ipython",
    "version": 3
   },
   "file_extension": ".py",
   "mimetype": "text/x-python",
   "name": "python",
   "nbconvert_exporter": "python",
   "pygments_lexer": "ipython3",
   "version": "3.12.4"
  }
 },
 "nbformat": 4,
 "nbformat_minor": 4
}
