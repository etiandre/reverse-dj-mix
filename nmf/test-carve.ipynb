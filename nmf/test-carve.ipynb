{
 "cells": [
  {
   "cell_type": "code",
   "execution_count": null,
   "metadata": {},
   "outputs": [],
   "source": [
    "import torch\n",
    "import torch.nn.functional as F\n",
    "import torchvision.transforms.functional as Fv\n",
    "import cv2\n",
    "import matplotlib.pyplot as plt\n",
    "import plot\n",
    "import numpy as np\n",
    "import scipy.ndimage\n",
    "import skimage"
   ]
  },
  {
   "cell_type": "code",
   "execution_count": null,
   "metadata": {},
   "outputs": [],
   "source": [
    "l=8\n",
    "slope=2\n",
    "angle = np.arctan(slope)\n",
    "win = np.eye(l)\n",
    "\n",
    "if not np.isclose(angle, np.pi / 4):\n",
    "    win = scipy.ndimage.rotate(\n",
    "        win, 45 - angle * 180 / np.pi, order=5, prefilter=False\n",
    "    )\n",
    "plt.imshow(win)\n",
    "plt.show()"
   ]
  },
  {
   "cell_type": "code",
   "execution_count": null,
   "metadata": {},
   "outputs": [],
   "source": [
    "H = torch.load(\"H_1.00.torch\")\n",
    "dest_shape = 50, 60\n",
    "threshold = 1e-3\n",
    "blur_size: int = 3\n",
    "resize_mode = \"area\"\n",
    "H_np = H.detach().numpy()\n",
    "\n",
    "im=plot.imshow_highlight_zero(H_np, origin=\"lower\", cmap=\"turbo\")\n",
    "plt.colorbar(im)\n",
    "plt.show()\n",
    "\n",
    "axes = plt.figure(figsize=(20, 8)).subplots(2, 9)\n",
    "for i, black_ridges in enumerate([True, False]):\n",
    "    for j, (func, sigmas) in enumerate(\n",
    "        [\n",
    "            (lambda x, **kwargs: x, None),\n",
    "            (skimage.filters.meijering, [1]),\n",
    "            (skimage.filters.meijering, range(1, 5)),\n",
    "            (skimage.filters.sato, [1]),\n",
    "            (skimage.filters.sato, range(1, 5)),\n",
    "            (skimage.filters.frangi, [1]),\n",
    "            (skimage.filters.frangi, range(1, 5)),\n",
    "            (skimage.filters.hessian, [1]),\n",
    "            (skimage.filters.hessian, range(1, 5)),\n",
    "        ]\n",
    "    ):\n",
    "        result = func(H_np, black_ridges=black_ridges, sigmas=sigmas)\n",
    "        axes[i, j].imshow(result, cmap=\"gray\", origin=\"lower\")\n",
    "        if i == 0:\n",
    "            title = func.__name__\n",
    "            if sigmas:\n",
    "                title += f\"\\n\\N{GREEK SMALL LETTER SIGMA} = {list(sigmas)}\"\n",
    "            axes[i, j].set_title(title)\n",
    "        if j == 0:\n",
    "            axes[i, j].set_ylabel(f'{black_ridges = }')\n",
    "        axes[i, j].set_xticks([])\n",
    "        axes[i, j].set_yticks([])\n",
    "\n",
    "plt.tight_layout()\n",
    "plt.show()"
   ]
  },
  {
   "cell_type": "code",
   "execution_count": null,
   "metadata": {},
   "outputs": [],
   "source": [
    "fig, ax = skimage.filters.try_all_threshold(H_np, figsize=(10, 15), verbose=True)\n",
    "\n",
    "plt.show()"
   ]
  },
  {
   "cell_type": "code",
   "execution_count": null,
   "metadata": {},
   "outputs": [],
   "source": []
  }
 ],
 "metadata": {
  "kernelspec": {
   "display_name": "venv",
   "language": "python",
   "name": "python3"
  },
  "language_info": {
   "codemirror_mode": {
    "name": "ipython",
    "version": 3
   },
   "file_extension": ".py",
   "mimetype": "text/x-python",
   "name": "python",
   "nbconvert_exporter": "python",
   "pygments_lexer": "ipython3",
   "version": "3.9.19"
  }
 },
 "nbformat": 4,
 "nbformat_minor": 2
}
