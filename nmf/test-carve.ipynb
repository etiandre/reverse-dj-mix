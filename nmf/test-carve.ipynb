{
 "cells": [
  {
   "cell_type": "code",
   "execution_count": null,
   "metadata": {},
   "outputs": [],
   "source": [
    "import carve\n",
    "import numpy as np\n",
    "import matplotlib.pyplot as plt\n",
    "import skimage\n",
    "import plot\n",
    "import librosa"
   ]
  },
  {
   "cell_type": "code",
   "execution_count": null,
   "metadata": {},
   "outputs": [],
   "source": [
    "H = skimage.io.imread(\"/data5/anasynth_nonbp/andre/test.png\", as_gray=True)\n",
    "H = skimage.util.img_as_float(H)\n",
    "H = 1 - H\n",
    "H = skimage.transform.rotate(H, 90)\n",
    "split_idx = [0, H.shape[0]//2, H.shape[0]]\n",
    "im=plot.plot_H(H, split_idx)\n",
    "plt.colorbar(im)"
   ]
  },
  {
   "cell_type": "code",
   "execution_count": null,
   "metadata": {},
   "outputs": [],
   "source": [
    "H_skel= skimage.morphology.skeletonize(H)\n",
    "plt.imshow(H_skel, origin=\"lower\", cmap=\"turbo\")\n",
    "plt.colorbar(im)"
   ]
  },
  {
   "cell_type": "code",
   "execution_count": null,
   "metadata": {},
   "outputs": [],
   "source": [
    "H_skel = H_skel.astype(float)\n",
    "H_blur = carve.line_enhance(H, split_idx, 3, 2, 51, \"hann\")\n",
    "im=plot.plot_H(H_blur, split_idx)\n",
    "plt.colorbar(im)"
   ]
  },
  {
   "cell_type": "code",
   "execution_count": null,
   "metadata": {},
   "outputs": [],
   "source": [
    "n = 10\n",
    "max_slope = 2\n",
    "min_slope= 1/max_slope\n",
    "n_filters = 5\n",
    "for slope in np.logspace(\n",
    "            np.log2(min_slope), np.log2(max_slope), num=n_filters, base=2\n",
    "        ):\n",
    "    angle = np.arctan(slope)\n",
    "    x = int(n *np.cos(angle))\n",
    "    y = int(n *np.sin(angle))\n",
    "    ker = np.zeros((x+1,y+1))\n",
    "    rr,cc = skimage.draw.line(0,0,x,y)\n",
    "    ker[rr,cc] = 1\n",
    "    plt.imshow(ker, origin=\"lower\", cmap='turbo')\n",
    "    plt.colorbar()\n",
    "    plt.show()"
   ]
  },
  {
   "cell_type": "code",
   "execution_count": null,
   "metadata": {},
   "outputs": [],
   "source": []
  }
 ],
 "metadata": {
  "kernelspec": {
   "display_name": "venv",
   "language": "python",
   "name": "python3"
  },
  "language_info": {
   "codemirror_mode": {
    "name": "ipython",
    "version": 3
   },
   "file_extension": ".py",
   "mimetype": "text/x-python",
   "name": "python",
   "nbconvert_exporter": "python",
   "pygments_lexer": "ipython3",
   "version": "3.9.19"
  }
 },
 "nbformat": 4,
 "nbformat_minor": 2
}
