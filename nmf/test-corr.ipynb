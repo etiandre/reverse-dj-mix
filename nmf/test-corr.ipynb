{
 "cells": [
  {
   "cell_type": "code",
   "execution_count": null,
   "metadata": {},
   "outputs": [],
   "source": [
    "import librosa\n",
    "import numpy as np\n",
    "import matplotlib.pyplot as plt\n",
    "\n",
    "# Load two audio signals\n",
    "signal1, sr1 = librosa.load(\"nuttah.wav\", sr=None)\n",
    "signal2, sr2 = librosa.load(\"nuttah-timestretch.wav\", sr=None)"
   ]
  },
  {
   "cell_type": "code",
   "execution_count": null,
   "metadata": {},
   "outputs": [],
   "source": [
    "import numpy as np\n",
    "import librosa\n",
    "\n",
    "mel_spec1 = librosa.feature.melspectrogram(y=signal1, sr=sr1)\n",
    "mel_spec2 = librosa.feature.melspectrogram(y=signal2, sr=sr2)\n",
    "\n",
    "sm = mel_spec2.T @ mel_spec1\n",
    "\n",
    "librosa.display.specshow(20 * np.log10(mel_spec1), cmap=\"turbo\")\n",
    "plt.show()\n",
    "librosa.display.specshow(20 * np.log10(mel_spec2), cmap=\"turbo\")\n",
    "plt.show()\n",
    "plt.imshow(sm, cmap=\"turbo\", origin=\"lower\")\n",
    "plt.colorbar()"
   ]
  },
  {
   "cell_type": "code",
   "execution_count": null,
   "metadata": {},
   "outputs": [],
   "source": [
    "D, wp = librosa.sequence.dtw(mel_spec2, mel_spec1, subseq=True)\n",
    "fig, ax = plt.subplots(nrows=2, sharex=True)\n",
    "\n",
    "img = librosa.display.specshow(D, x_axis=\"frames\", y_axis=\"frames\", ax=ax[0])\n",
    "\n",
    "ax[0].set(title=\"DTW cost\", xlabel=\"Noisy sequence\", ylabel=\"Target\")\n",
    "\n",
    "ax[0].plot(wp[:, 1], wp[:, 0], label=\"Optimal path\", color=\"y\")\n",
    "\n",
    "ax[0].legend()\n",
    "\n",
    "fig.colorbar(img, ax=ax[0])\n",
    "\n",
    "ax[1].plot(D[-1, :] / wp.shape[0])\n",
    "\n",
    "ax[1].set(xlim=[0, mel_spec2.shape[1]], ylim=[0, 2], title=\"Matching cost function\")"
   ]
  },
  {
   "cell_type": "code",
   "execution_count": null,
   "metadata": {},
   "outputs": [],
   "source": []
  }
 ],
 "metadata": {
  "kernelspec": {
   "display_name": ".venv",
   "language": "python",
   "name": "python3"
  },
  "language_info": {
   "codemirror_mode": {
    "name": "ipython",
    "version": 3
   },
   "file_extension": ".py",
   "mimetype": "text/x-python",
   "name": "python",
   "nbconvert_exporter": "python",
   "pygments_lexer": "ipython3",
   "version": "3.12.4"
  }
 },
 "nbformat": 4,
 "nbformat_minor": 2
}
