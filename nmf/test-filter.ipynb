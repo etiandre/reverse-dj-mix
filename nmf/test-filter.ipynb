{
 "cells": [
  {
   "cell_type": "code",
   "execution_count": null,
   "metadata": {},
   "outputs": [],
   "source": [
    "import scipy.signal\n",
    "import numpy as np\n",
    "import matplotlib.pyplot as plt\n",
    "import librosa"
   ]
  },
  {
   "cell_type": "code",
   "execution_count": null,
   "metadata": {},
   "outputs": [],
   "source": [
    "fs = 16000\n",
    "x = np.random.randn(fs)\n",
    "\n",
    "eq_cutoff = [250, 2500]\n",
    "\n",
    "bands = [0] + eq_cutoff + [fs / 2]\n",
    "for fa, fb in zip(bands, bands[1:]):\n",
    "    sos = []\n",
    "    if fa != 0:\n",
    "        sosa = scipy.signal.bessel(8, fa, fs=fs, btype=\"highpass\", output=\"sos\")\n",
    "        sos.append(sosa)\n",
    "    if fb != fs / 2:\n",
    "        sosb = scipy.signal.bessel(8, fb, fs=fs, btype=\"lowpass\", output=\"sos\")\n",
    "        sos.append(sosb)\n",
    "\n",
    "    sos = np.vstack(sos)\n",
    "    y = scipy.signal.sosfilt(sos, x)\n",
    "    librosa.display.specshow(20*np.log10(np.abs(librosa.stft(y))), cmap=\"turbo\")\n",
    "    plt.show()"
   ]
  },
  {
   "cell_type": "code",
   "execution_count": null,
   "metadata": {},
   "outputs": [],
   "source": []
  }
 ],
 "metadata": {
  "kernelspec": {
   "display_name": "venv",
   "language": "python",
   "name": "python3"
  },
  "language_info": {
   "codemirror_mode": {
    "name": "ipython",
    "version": 3
   },
   "file_extension": ".py",
   "mimetype": "text/x-python",
   "name": "python",
   "nbconvert_exporter": "python",
   "pygments_lexer": "ipython3",
   "version": "3.9.19"
  }
 },
 "nbformat": 4,
 "nbformat_minor": 2
}
