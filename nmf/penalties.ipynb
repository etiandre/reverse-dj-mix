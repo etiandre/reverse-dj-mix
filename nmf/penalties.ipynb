{
 "cells": [
  {
   "cell_type": "code",
   "execution_count": null,
   "metadata": {},
   "outputs": [],
   "source": [
    "import modular_nmf\n",
    "import seaborn as sns\n",
    "import matplotlib.pyplot as plt\n",
    "import numpy as np"
   ]
  },
  {
   "cell_type": "code",
   "execution_count": null,
   "metadata": {},
   "outputs": [],
   "source": [
    "X = np.random.rand(*(4,6))\n",
    "plt.imshow(X)\n",
    "plt.colorbar()\n",
    "plt.show()\n",
    "for penalty in [modular_nmf.SmoothGain(), modular_nmf.VirtanenTemporalContinuity()]:\n",
    "    print(penalty)\n",
    "    print(penalty.compute(X))\n",
    "    grad_neg = np.array(penalty.grad_neg(X))\n",
    "    grad_pos = np.array(penalty.grad_pos(X))\n",
    "\n",
    "    fig, ax = plt.subplots(1, 2, figsize=(12, 6))\n",
    "\n",
    "    cax1 = ax[0].imshow(grad_neg)\n",
    "    fig.colorbar(cax1, ax=ax[0])\n",
    "    ax[0].set_title('Gradient Negative')\n",
    "\n",
    "    cax2 = ax[1].imshow(grad_pos)\n",
    "    fig.colorbar(cax2, ax=ax[1])\n",
    "    ax[1].set_title('Gradient Positive')\n",
    "\n",
    "    plt.show()"
   ]
  },
  {
   "cell_type": "code",
   "execution_count": null,
   "metadata": {},
   "outputs": [],
   "source": [
    "for pp in [modular_nmf.PolyphonyLimit(1), modular_nmf.PolyphonyLimit(3)]:\n",
    "    plt.imshow(0.5 * pp.process(X) + 0.5*X)\n",
    "    plt.colorbar()\n",
    "    plt.show()"
   ]
  },
  {
   "cell_type": "code",
   "execution_count": null,
   "metadata": {},
   "outputs": [],
   "source": []
  }
 ],
 "metadata": {
  "kernelspec": {
   "display_name": ".venv",
   "language": "python",
   "name": "python3"
  },
  "language_info": {
   "codemirror_mode": {
    "name": "ipython",
    "version": 3
   },
   "file_extension": ".py",
   "mimetype": "text/x-python",
   "name": "python",
   "nbconvert_exporter": "python",
   "pygments_lexer": "ipython3",
   "version": "3.12.1"
  }
 },
 "nbformat": 4,
 "nbformat_minor": 2
}
