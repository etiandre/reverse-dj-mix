{
 "cells": [
  {
   "cell_type": "code",
   "execution_count": null,
   "metadata": {},
   "outputs": [],
   "source": [
    "import synthetic\n",
    "import numpy as np\n",
    "import matplotlib.pyplot as plt\n",
    "from IPython.display import Audio"
   ]
  },
  {
   "cell_type": "code",
   "execution_count": null,
   "metadata": {},
   "outputs": [],
   "source": [
    "from classes import FromFileRefTrack, FS\n",
    "from synthetic import CrossfadeMix\n",
    "\n",
    "\n",
    "DEADMAU5_A = FromFileRefTrack(\"audio/linear-mix-1.wav\")\n",
    "DEADMAU5_B = FromFileRefTrack(\"audio/linear-mix-2.wav\")\n",
    "\n",
    "mix = CrossfadeMix(\"linear-mix\", DEADMAU5_A, DEADMAU5_B, 3.75, 7.5, 0)"
   ]
  },
  {
   "cell_type": "code",
   "execution_count": null,
   "metadata": {},
   "outputs": [],
   "source": [
    "display(Audio(mix.audio, rate=FS))\n",
    "times = np.linspace(0,mix.duration)\n",
    "plt.plot(times, mix.gain(times))\n",
    "plt.show()\n",
    "plt.plot(times, mix.warp(times))\n",
    "plt.show()"
   ]
  },
  {
   "cell_type": "code",
   "execution_count": null,
   "metadata": {},
   "outputs": [],
   "source": []
  }
 ],
 "metadata": {
  "kernelspec": {
   "display_name": "venv",
   "language": "python",
   "name": "python3"
  },
  "language_info": {
   "codemirror_mode": {
    "name": "ipython",
    "version": 3
   },
   "file_extension": ".py",
   "mimetype": "text/x-python",
   "name": "python",
   "nbconvert_exporter": "python",
   "pygments_lexer": "ipython3",
   "version": "3.9.19"
  }
 },
 "nbformat": 4,
 "nbformat_minor": 2
}
