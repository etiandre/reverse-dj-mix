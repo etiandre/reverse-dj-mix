{
 "cells": [
  {
   "cell_type": "code",
   "execution_count": null,
   "metadata": {},
   "outputs": [],
   "source": [
    "from pathlib import Path\n",
    "import numpy as np\n",
    "import matplotlib.pyplot as plt\n",
    "import pandas as pd\n",
    "import seaborn as sns\n",
    "import pickle\n",
    "from tqdm import tqdm\n",
    "import json\n",
    "import dictdiffer\n",
    "from pprint import pprint\n",
    "from abcdj import ABCDJ, ABCDJResult\n",
    "from mixes.unmixdb import UnmixDB\n",
    "import param_estimator\n",
    "import plot\n",
    "\n",
    "sns.set_theme(\"paper\")\n",
    "abcdj = ABCDJ(\n",
    "    \"/data2/anasynth_nonbp/schwarz/abc-dj/src-git/unmixing/results-unmixdb-full\"\n",
    ")\n",
    "UNMIXDB_PATH = Path(\"/data2/anasynth_nonbp/schwarz/abc-dj/data/unmixdb-zenodo\")\n",
    "\n",
    "unmixdb = UnmixDB(UNMIXDB_PATH)\n"
   ]
  },
  {
   "cell_type": "code",
   "execution_count": null,
   "metadata": {},
   "outputs": [],
   "source": [
    "mix = unmixdb.mixes[55]\n",
    "print(mix.name)\n",
    "abcdj_mix = abcdj[mix.name.replace(\".mp3\", \"\")]\n",
    "# pprint(abcdj_mix.data)\n",
    "tau = abcdj_mix.tau * 6\n",
    "est_gain = abcdj_mix.gain\n",
    "if est_gain is None:\n",
    "    print(f\"skip {mix.name}\")\n",
    "real_gain = mix.gain(tau)\n",
    "err_gain = param_estimator.error(est_gain, real_gain)\n",
    "\n",
    "real_warp = mix.warp(tau)\n",
    "print(abcdj_mix.data[\"slope\"])\n",
    "est_warp = np.array([abcdj_mix.data[\"slope\"][i]* tau - abcdj_mix.data[\"starttime\"][i] for i in range(3)]).T\n",
    "err_warp = param_estimator.error(est_warp, real_warp)\n",
    "plot.plot_gain(tau, est_gain, real_gain)\n",
    "plt.show()\n",
    "plot.plot_warp(tau, est_warp, real_warp)\n",
    "plt.show()"
   ]
  }
 ],
 "metadata": {
  "kernelspec": {
   "display_name": "venv",
   "language": "python",
   "name": "python3"
  },
  "language_info": {
   "codemirror_mode": {
    "name": "ipython",
    "version": 3
   },
   "file_extension": ".py",
   "mimetype": "text/x-python",
   "name": "python",
   "nbconvert_exporter": "python",
   "pygments_lexer": "ipython3",
   "version": "3.9.19"
  }
 },
 "nbformat": 4,
 "nbformat_minor": 2
}
