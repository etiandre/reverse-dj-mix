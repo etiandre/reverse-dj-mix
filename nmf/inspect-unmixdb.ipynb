{
 "cells": [
  {
   "cell_type": "code",
   "execution_count": null,
   "metadata": {},
   "outputs": [],
   "source": [
    "from pathlib import Path\n",
    "import librosa\n",
    "import matplotlib.pyplot as plt\n",
    "import numpy as np\n",
    "from mixes.unmixdb import UnmixDB\n",
    "import seaborn as sns\n",
    "from tqdm import tqdm\n",
    "import pickle\n",
    "sns.set_theme('paper')"
   ]
  },
  {
   "cell_type": "code",
   "execution_count": null,
   "metadata": {},
   "outputs": [],
   "source": [
    "UNMIXDB_PATH = Path(\"/home/etiandre/stage/datasets/unmixdb/\")\n",
    "dataset = UnmixDB(UNMIXDB_PATH) \n",
    "# dataset = SyntheticDB()\n"
   ]
  },
  {
   "cell_type": "code",
   "execution_count": null,
   "metadata": {},
   "outputs": [],
   "source": [
    "COLOR_CYCLE = [\"blue\", \"green\", \"red\", \"cyan\", \"magenta\", \"yellow\", \"black\"]\n",
    "HOP = 4096\n",
    "FS = 22050\n",
    "results = {}\n",
    "for mix in tqdm(dataset.mixes):\n",
    "    tau = np.arange(0, mix.duration * FS, HOP) / FS\n",
    "    gain = 20*np.log10(mix.gain(tau))\n",
    "    warp = mix.warp(tau)\n",
    "    plt.figure(figsize=(6,3))\n",
    "    bad_duration = 0\n",
    "    for i, track in enumerate(mix.tracks):\n",
    "        rms = 20 * np.log10(librosa.feature.rms(y=track.audio, hop_length=HOP, frame_length=4*HOP)).flatten()\n",
    "        t = librosa.times_like(rms, sr=FS, hop_length=HOP) / mix.meta[i][\"speed\"] + mix.meta[i][\"start\"]\n",
    "        \n",
    "        rms = np.interp(tau, t, rms, left=-200, right=-200)\n",
    "        \n",
    "        plt.plot(tau, rms, label=f\"rms {i} {track.name}\", color=COLOR_CYCLE[i])\n",
    "        plt.plot(tau, gain[:,i], \"--\", label=f\"gain {i}\", color=COLOR_CYCLE[i])\n",
    "\n",
    "        bad_zones = (rms < -60) & (gain[:,i].flatten() > -60)\n",
    "        plt.fill_between(tau, -100, 0, where=bad_zones, facecolor='red', alpha=0.5)\n",
    "        bad_duration += np.sum(np.diff(tau)[bad_zones[:-1]])\n",
    "        \n",
    "    results[mix.name] = bad_duration\n",
    "\n",
    "    plt.ylim(-90, -5)\n",
    "    plt.ylabel(\"dB\")\n",
    "    plt.xlabel(\"time (s)\")\n",
    "    # plt.legend()\n",
    "    plt.title(f\"{mix.name}: {bad_duration:.2f} s.\")\n",
    "    plt.savefig(f\"badzone-{mix.name}.png\")\n",
    "    # plt.show()\n",
    "    plt.close()\n",
    "with open(\"badzone.pickle\", \"wb\") as f:\n",
    "    pickle.dump(results, f)"
   ]
  },
  {
   "cell_type": "code",
   "execution_count": null,
   "metadata": {},
   "outputs": [],
   "source": [
    "import pandas as pd\n",
    "with open(\"badzone.pickle\", \"rb\") as f:\n",
    "    results = pickle.load(f)\n",
    "df = pd.DataFrame(pd.Series(results))\n",
    "df"
   ]
  },
  {
   "cell_type": "code",
   "execution_count": null,
   "metadata": {},
   "outputs": [],
   "source": [
    "import seaborn as sns\n",
    "sns.set_theme('notebook')\n",
    "sns.boxplot(df)"
   ]
  }
 ],
 "metadata": {
  "kernelspec": {
   "display_name": ".venv",
   "language": "python",
   "name": "python3"
  },
  "language_info": {
   "codemirror_mode": {
    "name": "ipython",
    "version": 3
   },
   "file_extension": ".py",
   "mimetype": "text/x-python",
   "name": "python",
   "nbconvert_exporter": "python",
   "pygments_lexer": "ipython3",
   "version": "3.12.4"
  }
 },
 "nbformat": 4,
 "nbformat_minor": 2
}
