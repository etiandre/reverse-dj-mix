{
 "cells": [
  {
   "cell_type": "code",
   "execution_count": null,
   "metadata": {},
   "outputs": [],
   "source": [
    "import sympy as sp"
   ]
  },
  {
   "cell_type": "code",
   "execution_count": null,
   "metadata": {},
   "outputs": [],
   "source": [
    "s = sp.Function(\"s\")\n",
    "f = sp.Function(\"f\")\n",
    "w = sp.Function(\"w\")\n",
    "t, omega, tau = sp.symbols(\"t omega tau\", real=True)\n",
    "spec_expr = abs(sp.Integral(s(t) * w(t - tau) * sp.exp(-sp.I * omega * t), t)) ** 2\n",
    "expr = spec_expr.subs(tau, f(tau))/spec_expr\n",
    "expr"
   ]
  },
  {
   "cell_type": "code",
   "execution_count": null,
   "metadata": {},
   "outputs": [],
   "source": [
    "sp.simplify(expr)"
   ]
  },
  {
   "cell_type": "code",
   "execution_count": null,
   "metadata": {},
   "outputs": [],
   "source": [
    "sp.solve(stft - sp.Sum(stft.subs(j, k) * H[k, j], (k, 0, K - 1)), H[k, j])"
   ]
  },
  {
   "cell_type": "code",
   "execution_count": null,
   "metadata": {},
   "outputs": [],
   "source": [
    "# D = sp.Sum(sp.Sum((V[f, n] - (W @ H)[f, n]), (n, 0, N - 1)), (f, 0, F - 1))\n",
    "# D = (\n",
    "#     1\n",
    "#     / (beta * (beta - 1))\n",
    "#     * sp.Sum(\n",
    "#         sp.Sum(\n",
    "#             (V[f, n] ** beta - (beta - 1) * (W @ H)[f, n] ** beta)\n",
    "#             - beta * V[f, n] * (W @ H)[f, n] ** (beta - 1),\n",
    "#             (n, 0, N - 1),\n",
    "#         ),\n",
    "#         (f, 0, F - 1),\n",
    "#     )\n",
    "# )\n",
    "# D = sp.Sum(\n",
    "#     sp.Sum(\n",
    "#         V[f, n] / (W @ H)[f, n] - sp.log(V[f, n] / (W @ H)[f, n]) - 1, (n, 0, N - 1)\n",
    "#     ),\n",
    "#     (f, 0, F - 1),\n",
    "# )\n",
    "# D = sp.Sum(\n",
    "#     1\n",
    "#     / F\n",
    "#     * sp.Sum(H[k, n] ** 2, (k, 1, K))\n",
    "#     * sp.Sum((H[k, n] - H[k - 1, n]) ** 2, (f, 1, F - 1)),\n",
    "#     (n, 0, N - 1),\n",
    "# )\n",
    "# D = sp.Sum(sp.Sum(sp.Max(H[f,n]-0.5, 0), (f,0,F-1)),(n,0,N-1))\n",
    "moyenne = 1 / N * sp.Sum(H[f, n], (n, 0, N - 1))\n",
    "variance = 1 / N * sp.Sum((H[f, n]) ** 2, (n, 0, N - 1)) - moyenne**2\n",
    "D = 1 / F * variance\n",
    "D"
   ]
  },
  {
   "cell_type": "code",
   "execution_count": null,
   "metadata": {},
   "outputs": [],
   "source": [
    "(moyenne**2).diff(H[i, j]).doit()"
   ]
  },
  {
   "cell_type": "code",
   "execution_count": null,
   "metadata": {},
   "outputs": [],
   "source": [
    "grad_D = D.diff(H[i, j])\n",
    "grad_D"
   ]
  },
  {
   "cell_type": "code",
   "execution_count": null,
   "metadata": {},
   "outputs": [],
   "source": [
    "grad_D.doit()"
   ]
  },
  {
   "cell_type": "code",
   "execution_count": null,
   "metadata": {},
   "outputs": [],
   "source": [
    "grad_D.simplify()"
   ]
  },
  {
   "cell_type": "code",
   "execution_count": null,
   "metadata": {},
   "outputs": [],
   "source": [
    "sp.MatrixExpr.from_index_summation(grad_D)"
   ]
  },
  {
   "cell_type": "markdown",
   "metadata": {},
   "source": []
  }
 ],
 "metadata": {
  "kernelspec": {
   "display_name": ".venv",
   "language": "python",
   "name": "python3"
  },
  "language_info": {
   "codemirror_mode": {
    "name": "ipython",
    "version": 3
   },
   "file_extension": ".py",
   "mimetype": "text/x-python",
   "name": "python",
   "nbconvert_exporter": "python",
   "pygments_lexer": "ipython3",
   "version": "3.12.1"
  }
 },
 "nbformat": 4,
 "nbformat_minor": 2
}
