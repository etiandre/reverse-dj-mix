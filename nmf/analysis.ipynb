{
 "cells": [
  {
   "cell_type": "code",
   "execution_count": null,
   "metadata": {},
   "outputs": [],
   "source": [
    "from pathlib import Path\n",
    "import numpy as np\n",
    "import matplotlib.pyplot as plt\n",
    "import pandas as pd\n",
    "import seaborn as sns\n",
    "import pickle\n",
    "from tqdm import tqdm\n",
    "import json\n",
    "import dictdiffer\n",
    "from pprint import pprint\n",
    "\n",
    "sns.set_theme(\"paper\")"
   ]
  },
  {
   "cell_type": "code",
   "execution_count": null,
   "metadata": {},
   "outputs": [],
   "source": [
    "# RESULTS_DIR = Path(\"/data5/anasynth_nonbp/andre/reverse-dj-mix/results\")\n",
    "RESULTS_DIR = Path(\"/home/etiandre/stage/results\")\n",
    "# UNMIXDB_PATH = Path(\"/data2/anasynth_nonbp/schwarz/abc-dj/data/unmixdb-zenodo\")\n",
    "UNMIXDB_PATH = Path(\"/home/etiandre/stage/datasets/unmixdb\")\n",
    "BASELINE = \"2024-08-14T15:20:57.073921\""
   ]
  },
  {
   "cell_type": "code",
   "execution_count": null,
   "metadata": {},
   "outputs": [],
   "source": [
    "results = []\n",
    "for i in tqdm(RESULTS_DIR.glob(\"**/results.pickle\")):\n",
    "    with open(i, \"rb\") as f:\n",
    "        data = pickle.load(f)\n",
    "        run = i.parent.parent.name\n",
    "        if run == BASELINE:\n",
    "            run = \"baseline\"\n",
    "        data[\"run\"] = run\n",
    "        results.append(data)\n",
    "data = pd.json_normalize(results)\n",
    "data[[\"id\", \"stretch\", \"fx\", \"submix\"]] = data[\"name\"].str.extract(\n",
    "    r\"(set\\d+mix\\d+)-(\\w+)-(\\w+)-(\\d+)\"\n",
    ")\n",
    "data[\"stretch\"] = data[\"stretch\"].replace(\"resample\", \"resamp\")\n",
    "data[\"fx\"] = data[\"fx\"].replace(\"distortion\", \"dist\")\n",
    "data[\"fx\"] = data[\"fx\"].replace(\"compressor\", \"comp\")\n",
    "data[\"transformation\"] = data[\"stretch\"] + \"\\n\" + data[\"fx\"]\n",
    "\n",
    "metas = {}\n",
    "for i in RESULTS_DIR.glob(\"*/meta.json\"):\n",
    "    with open(i) as f:\n",
    "        run = i.parent.name\n",
    "        if run == BASELINE:\n",
    "            run = \"baseline\"\n",
    "        metas[run] = json.load(f)"
   ]
  },
  {
   "cell_type": "code",
   "execution_count": null,
   "metadata": {},
   "outputs": [],
   "source": [
    "data = data.groupby(\"run\").filter(lambda x: len(x) >= 1931)  # only keep full results"
   ]
  },
  {
   "cell_type": "code",
   "execution_count": null,
   "metadata": {},
   "outputs": [],
   "source": [
    "data.groupby(\"run\").count()"
   ]
  },
  {
   "cell_type": "code",
   "execution_count": null,
   "metadata": {},
   "outputs": [],
   "source": [
    "for i in sorted(metas.keys()):\n",
    "    print(\"baseline\", i)\n",
    "    pprint(list(dictdiffer.diff(metas[\"baseline\"], metas[i])))"
   ]
  },
  {
   "cell_type": "code",
   "execution_count": null,
   "metadata": {},
   "outputs": [],
   "source": [
    "data.loc[data[\"run\"] == \"2024-08-15T09:54:37.938964\", \"run\"] = \"NOISE_DIM=25\"\n",
    "data.loc[data[\"run\"] == \"2024-08-15T09:52:24.231529\", \"run\"] = \"NOISE_DIM=15\"\n",
    "data.loc[data[\"run\"] == \"2024-08-14T16:03:54.912066\", \"run\"] = \"NOISE_DIM=5\""
   ]
  },
  {
   "cell_type": "code",
   "execution_count": null,
   "metadata": {},
   "outputs": [],
   "source": [
    "ret = []\n",
    "for l in data.tracks:\n",
    "    if type(l) is not list:\n",
    "        ret.append(np.nan)\n",
    "        continue\n",
    "    print([i[\"speed_est\"] / i[\"speed_real\"] for i in l])\n",
    "    ret.append(np.mean([i[\"speed_est\"] / i[\"speed_real\"] for i in l]))\n",
    "\n",
    "data[\"speed_ratio\"] = ret"
   ]
  },
  {
   "cell_type": "code",
   "execution_count": null,
   "metadata": {},
   "outputs": [],
   "source": [
    "def analysis_boxplots(runs, name=None, figsize=(7,4)):\n",
    "    order = [\n",
    "        \"none\\nnone\",\n",
    "        \"none\\nbass\",\n",
    "        \"none\\ncomp\",\n",
    "        \"none\\ndist\",\n",
    "        \"resamp\\nnone\",\n",
    "        \"resamp\\nbass\",\n",
    "        \"resamp\\ncomp\",\n",
    "        \"resamp\\ndist\",\n",
    "        \"stretch\\nnone\",\n",
    "        \"stretch\\nbass\",\n",
    "        \"stretch\\ncomp\",\n",
    "        \"stretch\\ndist\",\n",
    "    ]\n",
    "\n",
    "    HIGHPARAMS = [\n",
    "        \"gain_err\",\n",
    "        \"warp_err\",\n",
    "        \"track_start_err\",\n",
    "        \"speed_ratio\",\n",
    "        \"fadein_start_err\",\n",
    "        \"fadein_stop_err\",\n",
    "        \"fadeout_start_err\",\n",
    "        \"fadeout_stop_err\",\n",
    "    ]\n",
    "    LOGSCALE = [\n",
    "        True,\n",
    "        False,\n",
    "        False,\n",
    "        False,\n",
    "        False,\n",
    "        False,\n",
    "        False,\n",
    "        False,\n",
    "    ]\n",
    "    YLIM = [\n",
    "        (None, None),\n",
    "        (None, None),\n",
    "        (0, 35),\n",
    "        (0.5, 1.5),\n",
    "        (None, None),\n",
    "        (None, None),\n",
    "        (None, None),\n",
    "        (None, None),\n",
    "    ]\n",
    "\n",
    "    HIGHPARAMS_names = [\n",
    "        \"Gain error\",\n",
    "        \"Warp error [s]\",\n",
    "        \"Cue point error [s]\",\n",
    "        \"Speed ratio\",\n",
    "        \"Fade-in start error [s]\",\n",
    "        \"Fade-in end error [s]\",\n",
    "        \"Fade-out start error [s]\",\n",
    "        \"Fade-out end error [s]\",\n",
    "    ]\n",
    "\n",
    "    for i, p in enumerate(HIGHPARAMS):\n",
    "        plt.figure(figsize=figsize)\n",
    "        sns.boxplot(\n",
    "            data,\n",
    "            x=\"transformation\",\n",
    "            y=p,\n",
    "            hue=\"run\",\n",
    "            log_scale=LOGSCALE[i],\n",
    "            order=order,\n",
    "            hue_order=runs,\n",
    "            fliersize=1,\n",
    "        )\n",
    "        plt.ylabel(HIGHPARAMS_names[i])\n",
    "        plt.ylim(*YLIM[i])\n",
    "        if len(runs) == 1:\n",
    "            plt.gca().get_legend().remove()\n",
    "        plt.tight_layout()\n",
    "\n",
    "        if name is not None:\n",
    "            plt.savefig(f\"results-plots/{name}_{p}.svg\")\n",
    "        plt.show()"
   ]
  },
  {
   "cell_type": "code",
   "execution_count": null,
   "metadata": {},
   "outputs": [],
   "source": [
    "analysis_boxplots([\"NOISE_DIM=15\"], \"best\")"
   ]
  },
  {
   "cell_type": "code",
   "execution_count": null,
   "metadata": {},
   "outputs": [],
   "source": [
    "analysis_boxplots(\n",
    "    [\n",
    "        \"baseline\",\n",
    "        \"NOISE_DIM=15\",\n",
    "    ],\n",
    "    \"noise\"\n",
    ")"
   ]
  },
  {
   "cell_type": "code",
   "execution_count": null,
   "metadata": {},
   "outputs": [],
   "source": [
    "sorted_data = data.sort_values(\n",
    "    by=[\"gain_err\"], ascending=True, na_position=\"last\"\n",
    ").reset_index()\n",
    "best_gain = sorted_data.loc[4]\n",
    "print(best_gain.run, best_gain[\"name\"])\n",
    "print(best_gain.gain_err)\n",
    "print(best_gain.warp_err)\n",
    "import plot\n",
    "\n",
    "plt.figure(figsize=(6, 4))\n",
    "plot.plot_gain(best_gain.tau, best_gain.gain_est, best_gain.gain_real)\n",
    "plt.savefig(\"best_gain.svg\")\n",
    "\n",
    "plt.figure(figsize=(6, 4))\n",
    "plot.plot_warp(best_gain.tau, best_gain.warp_est, best_gain.warp_real)\n",
    "plt.savefig(\"best_warp.svg\")\n"
   ]
  },
  {
   "cell_type": "code",
   "execution_count": null,
   "metadata": {},
   "outputs": [],
   "source": []
  }
 ],
 "metadata": {
  "kernelspec": {
   "display_name": ".venv",
   "language": "python",
   "name": "python3"
  },
  "language_info": {
   "codemirror_mode": {
    "name": "ipython",
    "version": 3
   },
   "file_extension": ".py",
   "mimetype": "text/x-python",
   "name": "python",
   "nbconvert_exporter": "python",
   "pygments_lexer": "ipython3",
   "version": "3.12.4"
  }
 },
 "nbformat": 4,
 "nbformat_minor": 2
}
