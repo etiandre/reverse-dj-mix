{
 "cells": [
  {
   "cell_type": "code",
   "execution_count": null,
   "metadata": {},
   "outputs": [],
   "source": [
    "import numpy as np\n",
    "import scipy.signal\n",
    "import matplotlib.pyplot as plt\n",
    "import seaborn\n",
    "from IPython.display import display, Audio\n",
    "import librosa\n",
    "from tqdm import tqdm\n",
    "import pytsmod\n",
    "from src import timewarp\n",
    "\n",
    "seaborn.set_theme()"
   ]
  },
  {
   "cell_type": "code",
   "execution_count": null,
   "metadata": {},
   "outputs": [],
   "source": [
    "x, FS = librosa.load(\n",
    "    \"datasets/unmixdb-zenodo/mixotic-set275-excerpts/refsongs/03_F.l.o._-_Tegula.excerpt40.mp3\",\n",
    "    mono=True,\n",
    "    offset=1,\n",
    "    duration=5,\n",
    "    sr=8000,\n",
    ")\n",
    "t = np.arange(len(x)) / FS\n",
    "display(Audio(x, rate=FS))\n",
    "print(FS)"
   ]
  },
  {
   "cell_type": "code",
   "execution_count": null,
   "metadata": {},
   "outputs": [],
   "source": [
    "# control_points = np.array([[0, 0], [1, 1], [1, 0], [3, 0.5]]).T\n",
    "control_points = np.array([[0, 0], [1, 1], [2, 1.5], [3, 4]]).T\n",
    "control_points *= FS\n",
    "\n",
    "idx = np.arange(int(control_points.max(axis=1)[0]))\n",
    "new_indices = np.interp(idx, control_points[0], control_points[1])\n",
    "plt.plot(*control_points, \"x\")\n",
    "plt.plot(idx, new_indices)"
   ]
  },
  {
   "cell_type": "code",
   "execution_count": null,
   "metadata": {},
   "outputs": [],
   "source": [
    "y = timewarp.resample_fast(x, new_indices)\n",
    "plt.plot(y)\n",
    "display(Audio(y, rate=FS))\n",
    "\n",
    "import soundfile as sf\n",
    "\n",
    "sf.write(\"x.wav\", x, FS)\n",
    "sf.write(\"y.wav\", y, FS)"
   ]
  },
  {
   "cell_type": "code",
   "execution_count": null,
   "metadata": {},
   "outputs": [],
   "source": [
    "import scipy.ndimage\n",
    "\n",
    "\n",
    "def envelope(x: np.ndarray, wlen=10, ufunc=np.maximum):\n",
    "    indices = np.r_[: len(x) : wlen]\n",
    "    env = np.maximum.reduceat(abs(x), indices)\n",
    "    t_env = indices + wlen // 2\n",
    "    return t_env, env\n",
    "\n",
    "\n",
    "def envelope_sliding(x, wlen, stride, ufunc=np.maximum):\n",
    "    v = np.lib.stride_tricks.sliding_window_view(\n",
    "        abs(x),\n",
    "        wlen,\n",
    "    )\n",
    "    print(x.shape)\n",
    "    print(v.shape)\n",
    "    env = ufunc.reduce(v[::stride], axis=1).T\n",
    "    t_env = np.r_[: v.shape[0] : stride] + wlen // 2\n",
    "    return t_env, env\n",
    "\n",
    "\n",
    "plt.figure(figsize=(18, 5))\n",
    "plt.plot(idx, abs(y))\n",
    "t_env, env = envelope(y, 250)\n",
    "plt.plot(t_env, env, label=\"no slide\")\n",
    "plt.plot(*envelope_sliding(y, 500, 250), label=\"slide\")\n",
    "plt.legend()"
   ]
  },
  {
   "cell_type": "code",
   "execution_count": null,
   "metadata": {},
   "outputs": [],
   "source": [
    "import dtw"
   ]
  },
  {
   "cell_type": "code",
   "execution_count": null,
   "metadata": {},
   "outputs": [],
   "source": [
    "wlen = 50\n",
    "y_offset = int(0 * FS)\n",
    "x_offset = int(0.1 * FS)\n",
    "\n",
    "env_t, query = envelope_sliding(y, wlen, wlen//2)\n",
    "_, reference = envelope_sliding(x, wlen, wlen//2)\n",
    "r = dtw.dtw(query, reference, step_pattern=\"symmetric2\")\n",
    "print(r, r.distance)\n",
    "plt.plot(r.index1 * wlen//2, r.index2 * wlen//2, label=\"dtw\")\n",
    "plt.plot(new_indices, label=\"ref\")\n",
    "plt.legend()\n",
    "plt.show()\n",
    "r.plot(type=\"threeway\", xts=query, yts=reference)\n",
    "plt.show()"
   ]
  },
  {
   "cell_type": "code",
   "execution_count": null,
   "metadata": {},
   "outputs": [],
   "source": []
  }
 ],
 "metadata": {
  "kernelspec": {
   "display_name": ".venv",
   "language": "python",
   "name": "python3"
  },
  "language_info": {
   "codemirror_mode": {
    "name": "ipython",
    "version": 3
   },
   "file_extension": ".py",
   "mimetype": "text/x-python",
   "name": "python",
   "nbconvert_exporter": "python",
   "pygments_lexer": "ipython3",
   "version": "3.11.8"
  }
 },
 "nbformat": 4,
 "nbformat_minor": 2
}
