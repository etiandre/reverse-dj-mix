{
 "cells": [
  {
   "cell_type": "code",
   "execution_count": null,
   "metadata": {},
   "outputs": [],
   "source": [
    "import numpy as np\n",
    "import matplotlib.pyplot as plt\n",
    "from scipy.signal import savgol_filter"
   ]
  },
  {
   "cell_type": "code",
   "execution_count": null,
   "metadata": {},
   "outputs": [],
   "source": [
    "def decompose_homography(M):\n",
    "    if M is None:\n",
    "        return 0, 0, 0\n",
    "    # Extract rotation matrix from homography matrix\n",
    "    r1 = M[0:3, 0]\n",
    "    r2 = M[0:3, 1]\n",
    "    r3 = np.cross(r1, r2)\n",
    "    R = np.column_stack((r1, r2, r3))\n",
    "\n",
    "    # Singular value decomposition to ensure proper rotation matrix\n",
    "    U, S, Vt = np.linalg.svd(R)\n",
    "    R = np.dot(U, Vt)\n",
    "\n",
    "    # Extract rotation angles from rotation matrix\n",
    "    theta_x = np.arctan2(R[2, 1], R[2, 2])\n",
    "    theta_y = np.arctan2(-R[2, 0], np.sqrt(R[2, 1] ** 2 + R[2, 2] ** 2))\n",
    "    theta_z = np.arctan2(R[1, 0], R[0, 0])\n",
    "\n",
    "    return theta_x, theta_y, theta_z"
   ]
  },
  {
   "cell_type": "code",
   "execution_count": null,
   "metadata": {},
   "outputs": [],
   "source": [
    "import pickle\n",
    "\n",
    "FPS = 59.57\n",
    "with open(\"matrices.pickle\", \"rb\") as f:\n",
    "    matrices = pickle.load(f)\n",
    "print(len(matrices))\n",
    "theta = np.array([decompose_homography(m) for m in matrices])[:, 2]\n",
    "print(theta.shape)\n",
    "\n",
    "theta = np.unwrap(theta, axis=0)\n",
    "t = np.arange(theta.shape[0]) / FPS\n",
    "\n",
    "# theta = savgol_filter(theta, window_length=20, polyorder=3)\n",
    "\n",
    "omega = np.gradient(theta, 1 / FPS, edge_order=2)\n",
    "\n",
    "omega = savgol_filter(omega, window_length=200, polyorder=5)\n",
    "\n",
    "\n",
    "rpm = omega / np.pi * 30\n",
    "plt.figure(figsize=(15, 8))\n",
    "plt.subplot(2, 1, 1)\n",
    "plt.plot(t, theta)\n",
    "plt.title(\"theta(t)\")\n",
    "# plt.plot(t, smoothed_theta)\n",
    "plt.subplot(2, 1, 2)\n",
    "plt.plot(t, rpm)\n",
    "plt.hlines(33, t[1], t[-1], linestyles=\"--\")\n",
    "plt.title(\"rpm(t)\")\n",
    "\n",
    "# plt.ylim(30, 50)"
   ]
  },
  {
   "cell_type": "code",
   "execution_count": null,
   "metadata": {},
   "outputs": [],
   "source": []
  }
 ],
 "metadata": {
  "kernelspec": {
   "display_name": ".venv",
   "language": "python",
   "name": "python3"
  },
  "language_info": {
   "codemirror_mode": {
    "name": "ipython",
    "version": 3
   },
   "file_extension": ".py",
   "mimetype": "text/x-python",
   "name": "python",
   "nbconvert_exporter": "python",
   "pygments_lexer": "ipython3",
   "version": "3.11.8"
  }
 },
 "nbformat": 4,
 "nbformat_minor": 2
}
