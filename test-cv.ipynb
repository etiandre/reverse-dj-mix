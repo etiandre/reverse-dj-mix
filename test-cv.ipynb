{
 "cells": [
  {
   "cell_type": "code",
   "execution_count": null,
   "metadata": {},
   "outputs": [],
   "source": [
    "import scipy.ndimage\n",
    "import scipy.signal\n",
    "from PIL import Image\n",
    "import numpy as np\n",
    "import matplotlib.pyplot as plt\n",
    "import skimage\n",
    "import skimage.feature\n",
    "import librosa\n",
    "\n",
    "c = 10  # length of time continuous activation filter\n",
    "\n",
    "def gen_kernel(c: int):\n",
    "    kern = np.zeros((2*c,2*c))\n",
    "    kern[c:, c:] = 1\n",
    "    kern[:c, :c] = 1\n",
    "    return kern    \n",
    "\n",
    "\n",
    "# kernel = np.eye(2*c)\n",
    "kernel = gen_kernel(c)\n",
    "\n",
    "\n",
    "plt.imshow(kernel, origin='lower', interpolation='nearest')\n",
    "plt.show()\n",
    "H = Image.open('test.png').convert('L')\n",
    "H = np.array(H)\n",
    "\n",
    "H_filt = H * scipy.signal.convolve2d(\n",
    "            H, kernel, mode=\"same\"\n",
    "        )\n",
    "\n",
    "# H_filt = skimage.feature.canny(H, 5)\n",
    "# H_filt = scipy.ndimage.gaussian_filter(H, 3)\n",
    "# H_filt = scipy.ndimage.grey_closing(H, 2)\n",
    "\n",
    "plt.figure(figsize=(18,10))\n",
    "plt.subplot(1,2,1)\n",
    "plt.imshow(H, origin='lower', aspect='auto', cmap='gray', interpolation='nearest')\n",
    "plt.subplot(1,2,2)\n",
    "plt.imshow(H_filt, origin='lower', aspect='auto', cmap='gray', interpolation='nearest')"
   ]
  },
  {
   "cell_type": "code",
   "execution_count": null,
   "metadata": {},
   "outputs": [],
   "source": [
    "H = np.array(Image.open('H.bmp').convert('L'))\n",
    "\n",
    "# Convert the image to decibels\n",
    "H_db = librosa.amplitude_to_db(H, ref=np.max)\n",
    "\n",
    "# Display the image using librosa.display.specshow\n",
    "plt.figure(figsize=(10, 4))\n",
    "librosa.display.specshow(H_db, x_axis='time', y_axis='linear', sr=22050)\n",
    "plt.colorbar(format='%+2.0f dB')\n",
    "plt.title('Spectrogram')\n",
    "plt.tight_layout()\n",
    "plt.show()"
   ]
  },
  {
   "cell_type": "code",
   "execution_count": null,
   "metadata": {},
   "outputs": [],
   "source": []
  }
 ],
 "metadata": {
  "kernelspec": {
   "display_name": ".venv",
   "language": "python",
   "name": "python3"
  },
  "language_info": {
   "codemirror_mode": {
    "name": "ipython",
    "version": 3
   },
   "file_extension": ".py",
   "mimetype": "text/x-python",
   "name": "python",
   "nbconvert_exporter": "python",
   "pygments_lexer": "ipython3",
   "version": "3.11.8"
  }
 },
 "nbformat": 4,
 "nbformat_minor": 2
}
